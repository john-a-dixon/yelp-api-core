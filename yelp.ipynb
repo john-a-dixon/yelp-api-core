{
 "cells": [
  {
   "attachments": {},
   "cell_type": "markdown",
   "metadata": {},
   "source": [
    "# **Yelp API Core**\n",
    "\n",
    "_John Andrew Dixon_\n",
    "\n",
    "---\n",
    "\n",
    "##### **Imports**"
   ]
  },
  {
   "cell_type": "code",
   "execution_count": 163,
   "metadata": {},
   "outputs": [],
   "source": [
    "import json, math, os, time\n",
    "import numpy as np\n",
    "import pandas as pd\n",
    "from yelpapi import YelpAPI\n",
    "from tqdm.notebook import tqdm_notebook"
   ]
  },
  {
   "attachments": {},
   "cell_type": "markdown",
   "metadata": {},
   "source": [
    "##### **Help Functions**"
   ]
  },
  {
   "cell_type": "code",
   "execution_count": 164,
   "metadata": {},
   "outputs": [],
   "source": [
    "def create_json_file(JSON_FILE, delete_if_exists=False):\n",
    "\n",
    "    # Check if the specified file exists\n",
    "    file_exists = os.path.isfile(JSON_FILE)\n",
    "\n",
    "\n",
    "\n",
    "    # If the file does not exist\n",
    "    if not file_exists:\n",
    "\n",
    "        # Notify that the file is being created.\n",
    "        print(f\"Specified file did not exist: creating {JSON_FILE} now.\")\n",
    "\n",
    "        # Get the folder name where the file will be saved.\n",
    "        folder = os.path.dirname(JSON_FILE)\n",
    "\n",
    "        # If the file is contained within a folder create it.\n",
    "        if len(folder) > 0:\n",
    "            os.makedirs(folder, exist_ok=True)\n",
    "\n",
    "        # Save an empty list to the file that was created.\n",
    "        with open(JSON_FILE, \"w\") as f:\n",
    "            json.dump([], f)\n",
    "\n",
    "\n",
    "\n",
    "    # If the file does exist\n",
    "    else:\n",
    "\n",
    "        # If the user wants to delete the file\n",
    "        if delete_if_exists:\n",
    "            print(f\"{JSON_FILE} exists. Deleting it now...\")\n",
    "            # Remove the file\n",
    "            os.remove(JSON_FILE)\n",
    "            # Recursively call the function with the delete_if_exists \n",
    "            # argument's default to create the new file\n",
    "            create_json_file(JSON_FILE)\n",
    "\n",
    "        # If the user does not want to delete the file\n",
    "        else:\n",
    "            # Notify that it exists\n",
    "            print(f\"{JSON_FILE} exists.\")"
   ]
  },
  {
   "attachments": {},
   "cell_type": "markdown",
   "metadata": {},
   "source": [
    "---\n",
    "\n",
    "## **Efficient YelpAPI Calls**"
   ]
  },
  {
   "attachments": {},
   "cell_type": "markdown",
   "metadata": {},
   "source": [
    "##### _API Setup_"
   ]
  },
  {
   "cell_type": "code",
   "execution_count": 165,
   "metadata": {},
   "outputs": [
    {
     "data": {
      "text/plain": [
       "<yelpapi.yelpapi.YelpAPI at 0x2477fc3bb50>"
      ]
     },
     "execution_count": 165,
     "metadata": {},
     "output_type": "execute_result"
    }
   ],
   "source": [
    "# Load YelpAPI credentials from the JSON files\n",
    "with open('/Users/johna/.secret/yelp_api.json') as f:\n",
    "    login = json.load(f)\n",
    "\n",
    "# Instantiate YelpAPI object\n",
    "yelp_api = YelpAPI(login['api-key'], timeout_s=5.0)\n",
    "yelp_api"
   ]
  },
  {
   "cell_type": "code",
   "execution_count": 166,
   "metadata": {},
   "outputs": [
    {
     "data": {
      "text/plain": [
       "'San Diego, CA'"
      ]
     },
     "metadata": {},
     "output_type": "display_data"
    },
    {
     "data": {
      "text/plain": [
       "'beer'"
      ]
     },
     "metadata": {},
     "output_type": "display_data"
    }
   ],
   "source": [
    "# Create the location and term strings\n",
    "LOCATION = \"San Diego, CA\"\n",
    "TERM = \"beer\"\n",
    "display(LOCATION, TERM)"
   ]
  },
  {
   "cell_type": "code",
   "execution_count": 167,
   "metadata": {},
   "outputs": [
    {
     "data": {
      "text/plain": [
       "'Data/results_in_progress_SanDiego,CA_beer.json'"
      ]
     },
     "execution_count": 167,
     "metadata": {},
     "output_type": "execute_result"
    }
   ],
   "source": [
    "# Specify the file name with the search terms as part of the name\n",
    "JSON_FILE = f\"Data/results_in_progress_{LOCATION.replace(' ', '')}_{TERM.replace(' ', '')}.json\"\n",
    "JSON_FILE"
   ]
  },
  {
   "cell_type": "code",
   "execution_count": 168,
   "metadata": {},
   "outputs": [
    {
     "name": "stdout",
     "output_type": "stream",
     "text": [
      "Data/results_in_progress_SanDiego,CA_beer.json exists. Deleting it now...\n",
      "Specified file did not exist: creating Data/results_in_progress_SanDiego,CA_beer.json now.\n"
     ]
    }
   ],
   "source": [
    "# Call the helper function to aid in creating the file\n",
    "create_json_file(JSON_FILE, delete_if_exists=True)"
   ]
  },
  {
   "cell_type": "code",
   "execution_count": 169,
   "metadata": {},
   "outputs": [
    {
     "name": "stdout",
     "output_type": "stream",
     "text": [
      "There are 0 previous results.\n"
     ]
    }
   ],
   "source": [
    "# Load previous results.\n",
    "with open(JSON_FILE, \"r\") as f:\n",
    "    previous_results = json.load(f)\n",
    "\n",
    "# Notify how many previous results there were.\n",
    "n_results = len(previous_results)\n",
    "print(f\"There are {n_results} previous results.\")"
   ]
  },
  {
   "cell_type": "code",
   "execution_count": 170,
   "metadata": {},
   "outputs": [
    {
     "name": "stdout",
     "output_type": "stream",
     "text": [
      "There are 4500 total search results.\n"
     ]
    }
   ],
   "source": [
    "# Preform an API call with the results offset.\n",
    "results = yelp_api.search_query(location=LOCATION,\n",
    "                                term=TERM,\n",
    "                                offset=n_results)\n",
    "\n",
    "# Show the total amount of results for verification and future reference.\n",
    "print(f\"There are {results['total']} total search results.\")"
   ]
  },
  {
   "cell_type": "code",
   "execution_count": 171,
   "metadata": {},
   "outputs": [
    {
     "name": "stdout",
     "output_type": "stream",
     "text": [
      "There are 20 per page.\n"
     ]
    }
   ],
   "source": [
    "# Print the amount of results per page\n",
    "results_per_page = len(results['businesses'])\n",
    "print(f\"There are {results_per_page} per page.\")"
   ]
  },
  {
   "cell_type": "code",
   "execution_count": 172,
   "metadata": {},
   "outputs": [
    {
     "name": "stdout",
     "output_type": "stream",
     "text": [
      "There are 225 pages.\n"
     ]
    }
   ],
   "source": [
    "# Create the number of pages by getting the total results and subtracting\n",
    "# the previous results and then diving this by the amount of results per page\n",
    "# given by len(results[\"businesses\"]).\n",
    "n_pages = math.ceil((results[\"total\"] - n_results) / results_per_page)\n",
    "print(f\"There are {n_pages} pages.\")"
   ]
  },
  {
   "cell_type": "code",
   "execution_count": 173,
   "metadata": {},
   "outputs": [
    {
     "data": {
      "application/vnd.jupyter.widget-view+json": {
       "model_id": "dcf89110fe764458a6689b62c64d64de",
       "version_major": 2,
       "version_minor": 0
      },
      "text/plain": [
       "  0%|          | 0/224 [00:00<?, ?it/s]"
      ]
     },
     "metadata": {},
     "output_type": "display_data"
    },
    {
     "name": "stdout",
     "output_type": "stream",
     "text": [
      "Exceeded result limit of 1000. Stopping loop...\n"
     ]
    }
   ],
   "source": [
    "# Loop through each page\n",
    "for i in tqdm_notebook(range(1, n_pages)):\n",
    "\n",
    "    # Load previous results.\n",
    "    with open(JSON_FILE, \"r\") as f:\n",
    "        previous_results = json.load(f)\n",
    "\n",
    "    # Save the amount of previous results.\n",
    "    n_results = len(previous_results)\n",
    "\n",
    "    # Exit out of the loop is the result  \n",
    "    if (n_results + results_per_page) > 1000:\n",
    "        print(\"Exceeded result limit of 1000. Stopping loop...\")\n",
    "        break\n",
    "\n",
    "    # Preform an API call with the results offset.\n",
    "    results = yelp_api.search_query(location=LOCATION,\n",
    "                                    term=TERM,\n",
    "                                    offset=n_results)\n",
    "    \n",
    "    # Append new results\n",
    "    previous_results.extend(results[\"businesses\"])\n",
    "\n",
    "    # Dump all current iteration results to target file\n",
    "    with open(JSON_FILE,'w') as f:\n",
    "        json.dump(previous_results, f)\n",
    "\n",
    "    # Add a 200 ms pause for better progress bar visualization\n",
    "    time.sleep(.2)"
   ]
  },
  {
   "cell_type": "code",
   "execution_count": 174,
   "metadata": {},
   "outputs": [
    {
     "data": {
      "text/html": [
       "<div>\n",
       "<style scoped>\n",
       "    .dataframe tbody tr th:only-of-type {\n",
       "        vertical-align: middle;\n",
       "    }\n",
       "\n",
       "    .dataframe tbody tr th {\n",
       "        vertical-align: top;\n",
       "    }\n",
       "\n",
       "    .dataframe thead th {\n",
       "        text-align: right;\n",
       "    }\n",
       "</style>\n",
       "<table border=\"1\" class=\"dataframe\">\n",
       "  <thead>\n",
       "    <tr style=\"text-align: right;\">\n",
       "      <th></th>\n",
       "      <th>id</th>\n",
       "      <th>alias</th>\n",
       "      <th>name</th>\n",
       "      <th>image_url</th>\n",
       "      <th>is_closed</th>\n",
       "      <th>url</th>\n",
       "      <th>review_count</th>\n",
       "      <th>categories</th>\n",
       "      <th>rating</th>\n",
       "      <th>coordinates</th>\n",
       "      <th>transactions</th>\n",
       "      <th>location</th>\n",
       "      <th>phone</th>\n",
       "      <th>display_phone</th>\n",
       "      <th>distance</th>\n",
       "      <th>price</th>\n",
       "    </tr>\n",
       "  </thead>\n",
       "  <tbody>\n",
       "    <tr>\n",
       "      <th>0</th>\n",
       "      <td>v1GulCBkuV31WR2K3kFQfA</td>\n",
       "      <td>the-gärten-san-diego</td>\n",
       "      <td>The Gärten</td>\n",
       "      <td>https://s3-media3.fl.yelpcdn.com/bphoto/Q-EMyi...</td>\n",
       "      <td>False</td>\n",
       "      <td>https://www.yelp.com/biz/the-g%C3%A4rten-san-d...</td>\n",
       "      <td>10</td>\n",
       "      <td>[{'alias': 'beergardens', 'title': 'Beer Garde...</td>\n",
       "      <td>4.5</td>\n",
       "      <td>{'latitude': 32.764478, 'longitude': -117.199122}</td>\n",
       "      <td>[]</td>\n",
       "      <td>{'address1': '5322 Banks St', 'address2': '', ...</td>\n",
       "      <td></td>\n",
       "      <td></td>\n",
       "      <td>11731.220811</td>\n",
       "      <td>NaN</td>\n",
       "    </tr>\n",
       "    <tr>\n",
       "      <th>1</th>\n",
       "      <td>fC-Q6SNAARW0eaKlBo737w</td>\n",
       "      <td>pure-project-balboa-park-san-diego-2</td>\n",
       "      <td>Pure Project - Balboa Park</td>\n",
       "      <td>https://s3-media2.fl.yelpcdn.com/bphoto/U7--bW...</td>\n",
       "      <td>False</td>\n",
       "      <td>https://www.yelp.com/biz/pure-project-balboa-p...</td>\n",
       "      <td>308</td>\n",
       "      <td>[{'alias': 'beerbar', 'title': 'Beer Bar'}, {'...</td>\n",
       "      <td>4.5</td>\n",
       "      <td>{'latitude': 32.7351148, 'longitude': -117.160...</td>\n",
       "      <td>[]</td>\n",
       "      <td>{'address1': '2865 Fifth Ave', 'address2': Non...</td>\n",
       "      <td>+16193232000</td>\n",
       "      <td>(619) 323-2000</td>\n",
       "      <td>11547.732050</td>\n",
       "      <td>$$</td>\n",
       "    </tr>\n",
       "    <tr>\n",
       "      <th>2</th>\n",
       "      <td>GkMleu5sddDUBmqKJ7tkdA</td>\n",
       "      <td>taproom-beer-co-san-diego</td>\n",
       "      <td>TapRoom Beer Co</td>\n",
       "      <td>https://s3-media4.fl.yelpcdn.com/bphoto/l1gRK3...</td>\n",
       "      <td>False</td>\n",
       "      <td>https://www.yelp.com/biz/taproom-beer-co-san-d...</td>\n",
       "      <td>195</td>\n",
       "      <td>[{'alias': 'breweries', 'title': 'Breweries'},...</td>\n",
       "      <td>4.5</td>\n",
       "      <td>{'latitude': 32.75567, 'longitude': -117.14347}</td>\n",
       "      <td>[delivery, pickup]</td>\n",
       "      <td>{'address1': '2000 El Cajon Blvd', 'address2':...</td>\n",
       "      <td>+16195397738</td>\n",
       "      <td>(619) 539-7738</td>\n",
       "      <td>8819.092243</td>\n",
       "      <td>$$</td>\n",
       "    </tr>\n",
       "    <tr>\n",
       "      <th>3</th>\n",
       "      <td>zDRzccJo9qgKYLvAjuGl8w</td>\n",
       "      <td>groundswell-brewing-company-san-diego</td>\n",
       "      <td>Groundswell Brewing Company</td>\n",
       "      <td>https://s3-media4.fl.yelpcdn.com/bphoto/CC1lcc...</td>\n",
       "      <td>False</td>\n",
       "      <td>https://www.yelp.com/biz/groundswell-brewing-c...</td>\n",
       "      <td>131</td>\n",
       "      <td>[{'alias': 'breweries', 'title': 'Breweries'}]</td>\n",
       "      <td>4.0</td>\n",
       "      <td>{'latitude': 32.788978269559365, 'longitude': ...</td>\n",
       "      <td>[]</td>\n",
       "      <td>{'address1': '6304 Riverdale St', 'address2': ...</td>\n",
       "      <td>+16197952337</td>\n",
       "      <td>(619) 795-2337</td>\n",
       "      <td>3867.685781</td>\n",
       "      <td>$</td>\n",
       "    </tr>\n",
       "    <tr>\n",
       "      <th>4</th>\n",
       "      <td>yqH8jZ1NncMN48vEVEOBbg</td>\n",
       "      <td>mikkeller-little-italy-san-diego</td>\n",
       "      <td>Mikkeller Little Italy</td>\n",
       "      <td>https://s3-media3.fl.yelpcdn.com/bphoto/T9r-q-...</td>\n",
       "      <td>False</td>\n",
       "      <td>https://www.yelp.com/biz/mikkeller-little-ital...</td>\n",
       "      <td>111</td>\n",
       "      <td>[{'alias': 'beerbar', 'title': 'Beer Bar'}]</td>\n",
       "      <td>4.5</td>\n",
       "      <td>{'latitude': 32.72575, 'longitude': -117.16886}</td>\n",
       "      <td>[]</td>\n",
       "      <td>{'address1': '2021 India St', 'address2': '', ...</td>\n",
       "      <td>+18583813500</td>\n",
       "      <td>(858) 381-3500</td>\n",
       "      <td>12884.420179</td>\n",
       "      <td>$$</td>\n",
       "    </tr>\n",
       "  </tbody>\n",
       "</table>\n",
       "</div>"
      ],
      "text/plain": [
       "                       id                                  alias  \\\n",
       "0  v1GulCBkuV31WR2K3kFQfA                   the-gärten-san-diego   \n",
       "1  fC-Q6SNAARW0eaKlBo737w   pure-project-balboa-park-san-diego-2   \n",
       "2  GkMleu5sddDUBmqKJ7tkdA              taproom-beer-co-san-diego   \n",
       "3  zDRzccJo9qgKYLvAjuGl8w  groundswell-brewing-company-san-diego   \n",
       "4  yqH8jZ1NncMN48vEVEOBbg       mikkeller-little-italy-san-diego   \n",
       "\n",
       "                          name  \\\n",
       "0                   The Gärten   \n",
       "1   Pure Project - Balboa Park   \n",
       "2              TapRoom Beer Co   \n",
       "3  Groundswell Brewing Company   \n",
       "4       Mikkeller Little Italy   \n",
       "\n",
       "                                           image_url  is_closed  \\\n",
       "0  https://s3-media3.fl.yelpcdn.com/bphoto/Q-EMyi...      False   \n",
       "1  https://s3-media2.fl.yelpcdn.com/bphoto/U7--bW...      False   \n",
       "2  https://s3-media4.fl.yelpcdn.com/bphoto/l1gRK3...      False   \n",
       "3  https://s3-media4.fl.yelpcdn.com/bphoto/CC1lcc...      False   \n",
       "4  https://s3-media3.fl.yelpcdn.com/bphoto/T9r-q-...      False   \n",
       "\n",
       "                                                 url  review_count  \\\n",
       "0  https://www.yelp.com/biz/the-g%C3%A4rten-san-d...            10   \n",
       "1  https://www.yelp.com/biz/pure-project-balboa-p...           308   \n",
       "2  https://www.yelp.com/biz/taproom-beer-co-san-d...           195   \n",
       "3  https://www.yelp.com/biz/groundswell-brewing-c...           131   \n",
       "4  https://www.yelp.com/biz/mikkeller-little-ital...           111   \n",
       "\n",
       "                                          categories  rating  \\\n",
       "0  [{'alias': 'beergardens', 'title': 'Beer Garde...     4.5   \n",
       "1  [{'alias': 'beerbar', 'title': 'Beer Bar'}, {'...     4.5   \n",
       "2  [{'alias': 'breweries', 'title': 'Breweries'},...     4.5   \n",
       "3     [{'alias': 'breweries', 'title': 'Breweries'}]     4.0   \n",
       "4        [{'alias': 'beerbar', 'title': 'Beer Bar'}]     4.5   \n",
       "\n",
       "                                         coordinates        transactions  \\\n",
       "0  {'latitude': 32.764478, 'longitude': -117.199122}                  []   \n",
       "1  {'latitude': 32.7351148, 'longitude': -117.160...                  []   \n",
       "2    {'latitude': 32.75567, 'longitude': -117.14347}  [delivery, pickup]   \n",
       "3  {'latitude': 32.788978269559365, 'longitude': ...                  []   \n",
       "4    {'latitude': 32.72575, 'longitude': -117.16886}                  []   \n",
       "\n",
       "                                            location         phone  \\\n",
       "0  {'address1': '5322 Banks St', 'address2': '', ...                 \n",
       "1  {'address1': '2865 Fifth Ave', 'address2': Non...  +16193232000   \n",
       "2  {'address1': '2000 El Cajon Blvd', 'address2':...  +16195397738   \n",
       "3  {'address1': '6304 Riverdale St', 'address2': ...  +16197952337   \n",
       "4  {'address1': '2021 India St', 'address2': '', ...  +18583813500   \n",
       "\n",
       "    display_phone      distance price  \n",
       "0                  11731.220811   NaN  \n",
       "1  (619) 323-2000  11547.732050    $$  \n",
       "2  (619) 539-7738   8819.092243    $$  \n",
       "3  (619) 795-2337   3867.685781     $  \n",
       "4  (858) 381-3500  12884.420179    $$  "
      ]
     },
     "metadata": {},
     "output_type": "display_data"
    },
    {
     "data": {
      "text/html": [
       "<div>\n",
       "<style scoped>\n",
       "    .dataframe tbody tr th:only-of-type {\n",
       "        vertical-align: middle;\n",
       "    }\n",
       "\n",
       "    .dataframe tbody tr th {\n",
       "        vertical-align: top;\n",
       "    }\n",
       "\n",
       "    .dataframe thead th {\n",
       "        text-align: right;\n",
       "    }\n",
       "</style>\n",
       "<table border=\"1\" class=\"dataframe\">\n",
       "  <thead>\n",
       "    <tr style=\"text-align: right;\">\n",
       "      <th></th>\n",
       "      <th>id</th>\n",
       "      <th>alias</th>\n",
       "      <th>name</th>\n",
       "      <th>image_url</th>\n",
       "      <th>is_closed</th>\n",
       "      <th>url</th>\n",
       "      <th>review_count</th>\n",
       "      <th>categories</th>\n",
       "      <th>rating</th>\n",
       "      <th>coordinates</th>\n",
       "      <th>transactions</th>\n",
       "      <th>location</th>\n",
       "      <th>phone</th>\n",
       "      <th>display_phone</th>\n",
       "      <th>distance</th>\n",
       "      <th>price</th>\n",
       "    </tr>\n",
       "  </thead>\n",
       "  <tbody>\n",
       "    <tr>\n",
       "      <th>995</th>\n",
       "      <td>5Ni6ZRI-SyRh4UOMWPsJsA</td>\n",
       "      <td>sky-lounge-spring-valley-2</td>\n",
       "      <td>Sky Lounge</td>\n",
       "      <td>https://s3-media4.fl.yelpcdn.com/bphoto/E523Nl...</td>\n",
       "      <td>False</td>\n",
       "      <td>https://www.yelp.com/biz/sky-lounge-spring-val...</td>\n",
       "      <td>80</td>\n",
       "      <td>[{'alias': 'hookah_bars', 'title': 'Hookah Bar...</td>\n",
       "      <td>4.5</td>\n",
       "      <td>{'latitude': 32.7435853040513, 'longitude': -1...</td>\n",
       "      <td>[delivery]</td>\n",
       "      <td>{'address1': '3515 Sweetwater Springs Blvd', '...</td>\n",
       "      <td>+16193035341</td>\n",
       "      <td>(619) 303-5341</td>\n",
       "      <td>14565.359684</td>\n",
       "      <td>$$</td>\n",
       "    </tr>\n",
       "    <tr>\n",
       "      <th>996</th>\n",
       "      <td>aHc-QrVN6ZX5SItLddiQag</td>\n",
       "      <td>sabertooth-grill-san-diego</td>\n",
       "      <td>Sabertooth Grill</td>\n",
       "      <td>https://s3-media4.fl.yelpcdn.com/bphoto/B9CdXZ...</td>\n",
       "      <td>False</td>\n",
       "      <td>https://www.yelp.com/biz/sabertooth-grill-san-...</td>\n",
       "      <td>82</td>\n",
       "      <td>[{'alias': 'tradamerican', 'title': 'American ...</td>\n",
       "      <td>3.0</td>\n",
       "      <td>{'latitude': 32.73807583669569, 'longitude': -...</td>\n",
       "      <td>[]</td>\n",
       "      <td>{'address1': '2920 Zoo Dr', 'address2': '', 'a...</td>\n",
       "      <td>+16192311515</td>\n",
       "      <td>(619) 231-1515</td>\n",
       "      <td>10895.799421</td>\n",
       "      <td>$$</td>\n",
       "    </tr>\n",
       "    <tr>\n",
       "      <th>997</th>\n",
       "      <td>1scglHyquV5DxVqZwgiGmw</td>\n",
       "      <td>papananis-deli-san-diego</td>\n",
       "      <td>Papanani's Deli</td>\n",
       "      <td>https://s3-media2.fl.yelpcdn.com/bphoto/NLfoLV...</td>\n",
       "      <td>False</td>\n",
       "      <td>https://www.yelp.com/biz/papananis-deli-san-di...</td>\n",
       "      <td>135</td>\n",
       "      <td>[{'alias': 'delis', 'title': 'Delis'}, {'alias...</td>\n",
       "      <td>4.0</td>\n",
       "      <td>{'latitude': 32.72661, 'longitude': -117.2007}</td>\n",
       "      <td>[delivery, pickup]</td>\n",
       "      <td>{'address1': '1450 Harbor Island Dr', 'address...</td>\n",
       "      <td>+16192970273</td>\n",
       "      <td>(619) 297-0273</td>\n",
       "      <td>14683.899639</td>\n",
       "      <td>$$</td>\n",
       "    </tr>\n",
       "    <tr>\n",
       "      <th>998</th>\n",
       "      <td>eGhOLzFFIhrvF6QjSSpJsg</td>\n",
       "      <td>phils-bbq-san-diego-2</td>\n",
       "      <td>Phil's BBQ</td>\n",
       "      <td>https://s3-media2.fl.yelpcdn.com/bphoto/IijLAP...</td>\n",
       "      <td>False</td>\n",
       "      <td>https://www.yelp.com/biz/phils-bbq-san-diego-2...</td>\n",
       "      <td>15856</td>\n",
       "      <td>[{'alias': 'bbq', 'title': 'Barbeque'}, {'alia...</td>\n",
       "      <td>4.5</td>\n",
       "      <td>{'latitude': 32.7547792020658, 'longitude': -1...</td>\n",
       "      <td>[delivery]</td>\n",
       "      <td>{'address1': '3750 Sports Arena Blvd', 'addres...</td>\n",
       "      <td>+16192266333</td>\n",
       "      <td>(619) 226-6333</td>\n",
       "      <td>13649.045923</td>\n",
       "      <td>$$</td>\n",
       "    </tr>\n",
       "    <tr>\n",
       "      <th>999</th>\n",
       "      <td>f_FOATuK6tLUwP3ZytdCrA</td>\n",
       "      <td>harbor-market-san-diego</td>\n",
       "      <td>Harbor Market</td>\n",
       "      <td>https://s3-media1.fl.yelpcdn.com/bphoto/e4A8Hm...</td>\n",
       "      <td>False</td>\n",
       "      <td>https://www.yelp.com/biz/harbor-market-san-die...</td>\n",
       "      <td>44</td>\n",
       "      <td>[{'alias': 'beer_and_wine', 'title': 'Beer, Wi...</td>\n",
       "      <td>3.5</td>\n",
       "      <td>{'latitude': 32.716901, 'longitude': -117.171804}</td>\n",
       "      <td>[delivery, pickup]</td>\n",
       "      <td>{'address1': '901 Bayfront Ct', 'address2': ''...</td>\n",
       "      <td>+16194321358</td>\n",
       "      <td>(619) 432-1358</td>\n",
       "      <td>13919.718045</td>\n",
       "      <td>NaN</td>\n",
       "    </tr>\n",
       "  </tbody>\n",
       "</table>\n",
       "</div>"
      ],
      "text/plain": [
       "                         id                       alias              name  \\\n",
       "995  5Ni6ZRI-SyRh4UOMWPsJsA  sky-lounge-spring-valley-2        Sky Lounge   \n",
       "996  aHc-QrVN6ZX5SItLddiQag  sabertooth-grill-san-diego  Sabertooth Grill   \n",
       "997  1scglHyquV5DxVqZwgiGmw    papananis-deli-san-diego   Papanani's Deli   \n",
       "998  eGhOLzFFIhrvF6QjSSpJsg       phils-bbq-san-diego-2        Phil's BBQ   \n",
       "999  f_FOATuK6tLUwP3ZytdCrA     harbor-market-san-diego     Harbor Market   \n",
       "\n",
       "                                             image_url  is_closed  \\\n",
       "995  https://s3-media4.fl.yelpcdn.com/bphoto/E523Nl...      False   \n",
       "996  https://s3-media4.fl.yelpcdn.com/bphoto/B9CdXZ...      False   \n",
       "997  https://s3-media2.fl.yelpcdn.com/bphoto/NLfoLV...      False   \n",
       "998  https://s3-media2.fl.yelpcdn.com/bphoto/IijLAP...      False   \n",
       "999  https://s3-media1.fl.yelpcdn.com/bphoto/e4A8Hm...      False   \n",
       "\n",
       "                                                   url  review_count  \\\n",
       "995  https://www.yelp.com/biz/sky-lounge-spring-val...            80   \n",
       "996  https://www.yelp.com/biz/sabertooth-grill-san-...            82   \n",
       "997  https://www.yelp.com/biz/papananis-deli-san-di...           135   \n",
       "998  https://www.yelp.com/biz/phils-bbq-san-diego-2...         15856   \n",
       "999  https://www.yelp.com/biz/harbor-market-san-die...            44   \n",
       "\n",
       "                                            categories  rating  \\\n",
       "995  [{'alias': 'hookah_bars', 'title': 'Hookah Bar...     4.5   \n",
       "996  [{'alias': 'tradamerican', 'title': 'American ...     3.0   \n",
       "997  [{'alias': 'delis', 'title': 'Delis'}, {'alias...     4.0   \n",
       "998  [{'alias': 'bbq', 'title': 'Barbeque'}, {'alia...     4.5   \n",
       "999  [{'alias': 'beer_and_wine', 'title': 'Beer, Wi...     3.5   \n",
       "\n",
       "                                           coordinates        transactions  \\\n",
       "995  {'latitude': 32.7435853040513, 'longitude': -1...          [delivery]   \n",
       "996  {'latitude': 32.73807583669569, 'longitude': -...                  []   \n",
       "997     {'latitude': 32.72661, 'longitude': -117.2007}  [delivery, pickup]   \n",
       "998  {'latitude': 32.7547792020658, 'longitude': -1...          [delivery]   \n",
       "999  {'latitude': 32.716901, 'longitude': -117.171804}  [delivery, pickup]   \n",
       "\n",
       "                                              location         phone  \\\n",
       "995  {'address1': '3515 Sweetwater Springs Blvd', '...  +16193035341   \n",
       "996  {'address1': '2920 Zoo Dr', 'address2': '', 'a...  +16192311515   \n",
       "997  {'address1': '1450 Harbor Island Dr', 'address...  +16192970273   \n",
       "998  {'address1': '3750 Sports Arena Blvd', 'addres...  +16192266333   \n",
       "999  {'address1': '901 Bayfront Ct', 'address2': ''...  +16194321358   \n",
       "\n",
       "      display_phone      distance price  \n",
       "995  (619) 303-5341  14565.359684    $$  \n",
       "996  (619) 231-1515  10895.799421    $$  \n",
       "997  (619) 297-0273  14683.899639    $$  \n",
       "998  (619) 226-6333  13649.045923    $$  \n",
       "999  (619) 432-1358  13919.718045   NaN  "
      ]
     },
     "metadata": {},
     "output_type": "display_data"
    }
   ],
   "source": [
    "final_df = pd.read_json(JSON_FILE)\n",
    "display(final_df.head(), final_df.tail())"
   ]
  },
  {
   "cell_type": "code",
   "execution_count": 175,
   "metadata": {},
   "outputs": [
    {
     "data": {
      "text/plain": [
       "0"
      ]
     },
     "execution_count": 175,
     "metadata": {},
     "output_type": "execute_result"
    }
   ],
   "source": [
    "# Just in case, drop duplicates and verify \n",
    "final_df = final_df.drop_duplicates(subset='id')\n",
    "final_df.duplicated(subset='id').sum()"
   ]
  },
  {
   "cell_type": "code",
   "execution_count": 176,
   "metadata": {},
   "outputs": [],
   "source": [
    "# Save the final results to a compressed csv for storage efficiency\n",
    "final_df.to_csv(f\"Data/final_results_{LOCATION.replace(' ', '')}_{TERM.replace(' ', '')}.csv.gz\", compression='gzip', index=False)"
   ]
  },
  {
   "cell_type": "code",
   "execution_count": 177,
   "metadata": {},
   "outputs": [
    {
     "name": "stdout",
     "output_type": "stream",
     "text": [
      "<class 'pandas.core.frame.DataFrame'>\n",
      "Int64Index: 1000 entries, 0 to 999\n",
      "Data columns (total 16 columns):\n",
      " #   Column         Non-Null Count  Dtype  \n",
      "---  ------         --------------  -----  \n",
      " 0   id             1000 non-null   object \n",
      " 1   alias          1000 non-null   object \n",
      " 2   name           1000 non-null   object \n",
      " 3   image_url      1000 non-null   object \n",
      " 4   is_closed      1000 non-null   bool   \n",
      " 5   url            1000 non-null   object \n",
      " 6   review_count   1000 non-null   int64  \n",
      " 7   categories     1000 non-null   object \n",
      " 8   rating         1000 non-null   float64\n",
      " 9   coordinates    1000 non-null   object \n",
      " 10  transactions   1000 non-null   object \n",
      " 11  location       1000 non-null   object \n",
      " 12  phone          1000 non-null   object \n",
      " 13  display_phone  1000 non-null   object \n",
      " 14  distance       1000 non-null   float64\n",
      " 15  price          847 non-null    object \n",
      "dtypes: bool(1), float64(2), int64(1), object(12)\n",
      "memory usage: 126.0+ KB\n"
     ]
    }
   ],
   "source": [
    "# Get a quick info of the final DataFrame\n",
    "final_df.info()"
   ]
  }
 ],
 "metadata": {
  "kernelspec": {
   "display_name": "dojo-env",
   "language": "python",
   "name": "python3"
  },
  "language_info": {
   "codemirror_mode": {
    "name": "ipython",
    "version": 3
   },
   "file_extension": ".py",
   "mimetype": "text/x-python",
   "name": "python",
   "nbconvert_exporter": "python",
   "pygments_lexer": "ipython3",
   "version": "3.9.15"
  },
  "orig_nbformat": 4
 },
 "nbformat": 4,
 "nbformat_minor": 2
}
