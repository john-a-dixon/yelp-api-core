{
 "cells": [
  {
   "attachments": {},
   "cell_type": "markdown",
   "metadata": {},
   "source": [
    "# **Yelp API Core**\n",
    "\n",
    "_John Andrew Dixon_\n",
    "\n",
    "---\n",
    "\n",
    "##### **Imports**"
   ]
  },
  {
   "cell_type": "code",
   "execution_count": 124,
   "metadata": {},
   "outputs": [],
   "source": [
    "import json, math, os, time\n",
    "import numpy as np\n",
    "import pandas as pd\n",
    "from yelpapi import YelpAPI\n",
    "from tqdm.notebook import tqdm_notebook"
   ]
  },
  {
   "cell_type": "code",
   "execution_count": 125,
   "metadata": {},
   "outputs": [],
   "source": [
    "def create_json_file(JSON_FILE, delete_if_exists=False):\n",
    "\n",
    "    # Check if the specified file exists\n",
    "    file_exists = os.path.isfile(JSON_FILE)\n",
    "\n",
    "    # IF THE FILE DOES NOT EXIST\n",
    "    if not file_exists:\n",
    "\n",
    "        # Notify that the file is being created.\n",
    "        print(f\"Specified file did not exist: creating {JSON_FILE} now.\")\n",
    "\n",
    "        # Get the folder name where the file will be saved.\n",
    "        folder = os.path.dirname(JSON_FILE)\n",
    "\n",
    "        # If the file is contained within a folder create it.\n",
    "        if len(folder) > 0:\n",
    "            os.makedirs(folder, exist_ok=True)\n",
    "\n",
    "        # Save an empty list to the file that was created.\n",
    "        with open(JSON_FILE, \"w\") as f:\n",
    "            json.dump([], f)\n",
    "\n",
    "\n",
    "    # IF THE FILE DOES EXIST\n",
    "    else:\n",
    "        # IF THE USER WANTS TO DELETE THE FILE\n",
    "        if delete_if_exists:\n",
    "            print(f\"{JSON_FILE} exists. Deleting it now...\")\n",
    "            # Remove the file\n",
    "            os.remove(JSON_FILE)\n",
    "            # Recursively call the function with the delete_if_exists argument's default \n",
    "            # to create the new file\n",
    "            create_json_file(JSON_FILE)\n",
    "\n",
    "        # IF THE USER DOES NOT WANT TO DELETE THE FILE\n",
    "        else:\n",
    "            # Notify that it exists\n",
    "            print(f\"{JSON_FILE} exists.\")"
   ]
  },
  {
   "attachments": {},
   "cell_type": "markdown",
   "metadata": {},
   "source": [
    "---\n",
    "\n",
    "## **Efficient YelpAPI Calls**"
   ]
  },
  {
   "cell_type": "code",
   "execution_count": 126,
   "metadata": {},
   "outputs": [
    {
     "data": {
      "text/plain": [
       "<yelpapi.yelpapi.YelpAPI at 0x2477e95f160>"
      ]
     },
     "execution_count": 126,
     "metadata": {},
     "output_type": "execute_result"
    }
   ],
   "source": [
    "# Load YelpAPI credentials from the JSON files\n",
    "with open('/Users/johna/.secret/yelp_api.json') as f:\n",
    "    login = json.load(f)\n",
    "\n",
    "# Instantiate YelpAPI object\n",
    "yelp_api = YelpAPI(login['api-key'], timeout_s=5.0)\n",
    "yelp_api"
   ]
  },
  {
   "cell_type": "code",
   "execution_count": 127,
   "metadata": {},
   "outputs": [
    {
     "data": {
      "text/plain": [
       "'San Diego, CA'"
      ]
     },
     "metadata": {},
     "output_type": "display_data"
    },
    {
     "data": {
      "text/plain": [
       "'beer'"
      ]
     },
     "metadata": {},
     "output_type": "display_data"
    }
   ],
   "source": [
    "LOCATION = \"San Diego, CA\"\n",
    "TERM = \"beer\"\n",
    "display(LOCATION, TERM)"
   ]
  },
  {
   "cell_type": "code",
   "execution_count": 128,
   "metadata": {},
   "outputs": [
    {
     "data": {
      "text/plain": [
       "'Data/results_in_progress_SanDiego,CA_beer.json'"
      ]
     },
     "execution_count": 128,
     "metadata": {},
     "output_type": "execute_result"
    }
   ],
   "source": [
    "JSON_FILE = f\"Data/results_in_progress_{LOCATION.replace(' ', '')}_{TERM.replace(' ', '')}.json\"\n",
    "JSON_FILE"
   ]
  },
  {
   "cell_type": "code",
   "execution_count": 129,
   "metadata": {},
   "outputs": [
    {
     "name": "stdout",
     "output_type": "stream",
     "text": [
      "Data/results_in_progress_SanDiego,CA_beer.json exists. Deleting it now...\n",
      "Specified file did not exist: creating Data/results_in_progress_SanDiego,CA_beer.json now.\n"
     ]
    }
   ],
   "source": [
    "create_json_file(JSON_FILE, delete_if_exists=True)"
   ]
  },
  {
   "cell_type": "code",
   "execution_count": 130,
   "metadata": {},
   "outputs": [
    {
     "name": "stdout",
     "output_type": "stream",
     "text": [
      "There are 0 previous results.\n"
     ]
    }
   ],
   "source": [
    "# Load previous results.\n",
    "with open(JSON_FILE, \"r\") as f:\n",
    "    previous_results = json.load(f)\n",
    "\n",
    "# Notify how many previous results there were.\n",
    "n_results = len(previous_results)\n",
    "print(f\"There are {n_results} previous results.\")"
   ]
  },
  {
   "cell_type": "code",
   "execution_count": 131,
   "metadata": {},
   "outputs": [
    {
     "name": "stdout",
     "output_type": "stream",
     "text": [
      "There are 4500 total results.\n"
     ]
    }
   ],
   "source": [
    "# Preform an API call with the results offset.\n",
    "results = yelp_api.search_query(location=LOCATION,\n",
    "                                term=TERM,\n",
    "                                offset=n_results)\n",
    "# Show the total amount of results for verification and future reference.\n",
    "print(f\"There are {results['total']} total results.\")"
   ]
  },
  {
   "cell_type": "code",
   "execution_count": 132,
   "metadata": {},
   "outputs": [
    {
     "name": "stdout",
     "output_type": "stream",
     "text": [
      "There are 225 pages.\n"
     ]
    }
   ],
   "source": [
    "# Create the number of pages by getting the total results and subtracting\n",
    "# the previous results and then diving this by the amount of results per page\n",
    "# given by len(results[\"businesses\"]).\n",
    "n_pages = math.ceil((results[\"total\"] - n_results) / len(results[\"businesses\"]))\n",
    "print(f\"There are {n_pages} pages.\")"
   ]
  },
  {
   "cell_type": "code",
   "execution_count": 133,
   "metadata": {},
   "outputs": [
    {
     "data": {
      "application/vnd.jupyter.widget-view+json": {
       "model_id": "c917dd7b02d448d7a1375f2d046f0f5c",
       "version_major": 2,
       "version_minor": 0
      },
      "text/plain": [
       "  0%|          | 0/224 [00:00<?, ?it/s]"
      ]
     },
     "metadata": {},
     "output_type": "display_data"
    },
    {
     "name": "stdout",
     "output_type": "stream",
     "text": [
      "Exceeded offset of 1000. Stopping loop\n"
     ]
    }
   ],
   "source": [
    "for i in tqdm_notebook(range(1, n_pages)):\n",
    "\n",
    "    # Load previous results.\n",
    "    with open(JSON_FILE, \"r\") as f:\n",
    "        previous_results = json.load(f)\n",
    "\n",
    "    # Save the amount of previous results.\n",
    "    n_results = len(previous_results)\n",
    "\n",
    "    if (n_results + 20) > 1000:\n",
    "        print(\"Exceeded offset of 1000. Stopping loop\")\n",
    "        break\n",
    "\n",
    "    # Preform an API call with the results offset.\n",
    "    results = yelp_api.search_query(location=LOCATION,\n",
    "                                    term=TERM,\n",
    "                                    offset=n_results)\n",
    "    \n",
    "    # Append new results\n",
    "    previous_results.extend(results[\"businesses\"])\n",
    "\n",
    "    # Dump previous results to target file\n",
    "    with open(JSON_FILE,'w') as f:\n",
    "        json.dump(previous_results, f)\n",
    "\n",
    "    # adds 200 ms pause\n",
    "    time.sleep(.2)"
   ]
  },
  {
   "cell_type": "code",
   "execution_count": 134,
   "metadata": {},
   "outputs": [
    {
     "data": {
      "text/html": [
       "<div>\n",
       "<style scoped>\n",
       "    .dataframe tbody tr th:only-of-type {\n",
       "        vertical-align: middle;\n",
       "    }\n",
       "\n",
       "    .dataframe tbody tr th {\n",
       "        vertical-align: top;\n",
       "    }\n",
       "\n",
       "    .dataframe thead th {\n",
       "        text-align: right;\n",
       "    }\n",
       "</style>\n",
       "<table border=\"1\" class=\"dataframe\">\n",
       "  <thead>\n",
       "    <tr style=\"text-align: right;\">\n",
       "      <th></th>\n",
       "      <th>id</th>\n",
       "      <th>alias</th>\n",
       "      <th>name</th>\n",
       "      <th>image_url</th>\n",
       "      <th>is_closed</th>\n",
       "      <th>url</th>\n",
       "      <th>review_count</th>\n",
       "      <th>categories</th>\n",
       "      <th>rating</th>\n",
       "      <th>coordinates</th>\n",
       "      <th>transactions</th>\n",
       "      <th>price</th>\n",
       "      <th>location</th>\n",
       "      <th>phone</th>\n",
       "      <th>display_phone</th>\n",
       "      <th>distance</th>\n",
       "    </tr>\n",
       "  </thead>\n",
       "  <tbody>\n",
       "    <tr>\n",
       "      <th>0</th>\n",
       "      <td>W0ZlPspAw4-QyMAlwHhyyw</td>\n",
       "      <td>hopnonymous-brewing-company-san-diego</td>\n",
       "      <td>Hopnonymous Brewing Company</td>\n",
       "      <td>https://s3-media2.fl.yelpcdn.com/bphoto/8TMmgM...</td>\n",
       "      <td>False</td>\n",
       "      <td>https://www.yelp.com/biz/hopnonymous-brewing-c...</td>\n",
       "      <td>123</td>\n",
       "      <td>[{'alias': 'breweries', 'title': 'Breweries'}]</td>\n",
       "      <td>5.0</td>\n",
       "      <td>{'latitude': 32.834408865, 'longitude': -117.1...</td>\n",
       "      <td>[]</td>\n",
       "      <td>$</td>\n",
       "      <td>{'address1': '7705 Convoy Ct', 'address2': Non...</td>\n",
       "      <td>+16198474628</td>\n",
       "      <td>(619) 847-4628</td>\n",
       "      <td>5686.154762</td>\n",
       "    </tr>\n",
       "    <tr>\n",
       "      <th>1</th>\n",
       "      <td>v1GulCBkuV31WR2K3kFQfA</td>\n",
       "      <td>the-gärten-san-diego</td>\n",
       "      <td>The Gärten</td>\n",
       "      <td>https://s3-media3.fl.yelpcdn.com/bphoto/Q-EMyi...</td>\n",
       "      <td>False</td>\n",
       "      <td>https://www.yelp.com/biz/the-g%C3%A4rten-san-d...</td>\n",
       "      <td>10</td>\n",
       "      <td>[{'alias': 'beergardens', 'title': 'Beer Garde...</td>\n",
       "      <td>4.5</td>\n",
       "      <td>{'latitude': 32.764478, 'longitude': -117.199122}</td>\n",
       "      <td>[]</td>\n",
       "      <td>NaN</td>\n",
       "      <td>{'address1': '5322 Banks St', 'address2': '', ...</td>\n",
       "      <td></td>\n",
       "      <td></td>\n",
       "      <td>11731.220811</td>\n",
       "    </tr>\n",
       "    <tr>\n",
       "      <th>2</th>\n",
       "      <td>xQTGzTqu9AO1czRy1yw4rw</td>\n",
       "      <td>harland-brewing-scripps-ranch-san-diego</td>\n",
       "      <td>Harland Brewing - Scripps Ranch</td>\n",
       "      <td>https://s3-media4.fl.yelpcdn.com/bphoto/UwyWMD...</td>\n",
       "      <td>False</td>\n",
       "      <td>https://www.yelp.com/biz/harland-brewing-scrip...</td>\n",
       "      <td>125</td>\n",
       "      <td>[{'alias': 'breweries', 'title': 'Breweries'}]</td>\n",
       "      <td>4.5</td>\n",
       "      <td>{'latitude': 32.9020727428145, 'longitude': -1...</td>\n",
       "      <td>[]</td>\n",
       "      <td>$$</td>\n",
       "      <td>{'address1': '10115 Carroll Canyon Rd', 'addre...</td>\n",
       "      <td>+18588004566</td>\n",
       "      <td>(858) 800-4566</td>\n",
       "      <td>8810.771101</td>\n",
       "    </tr>\n",
       "    <tr>\n",
       "      <th>3</th>\n",
       "      <td>R1HTs48IfVhaCL39KMRwkg</td>\n",
       "      <td>mcilhenney-brewing-alpine</td>\n",
       "      <td>McIlhenney Brewing</td>\n",
       "      <td>https://s3-media1.fl.yelpcdn.com/bphoto/cI3dIR...</td>\n",
       "      <td>False</td>\n",
       "      <td>https://www.yelp.com/biz/mcilhenney-brewing-al...</td>\n",
       "      <td>21</td>\n",
       "      <td>[{'alias': 'brewpubs', 'title': 'Brewpubs'}]</td>\n",
       "      <td>5.0</td>\n",
       "      <td>{'latitude': 32.83467, 'longitude': -116.76268}</td>\n",
       "      <td>[]</td>\n",
       "      <td>$</td>\n",
       "      <td>{'address1': '2363 Alpine Blvd', 'address2': '...</td>\n",
       "      <td></td>\n",
       "      <td></td>\n",
       "      <td>31083.512766</td>\n",
       "    </tr>\n",
       "    <tr>\n",
       "      <th>4</th>\n",
       "      <td>fC-Q6SNAARW0eaKlBo737w</td>\n",
       "      <td>pure-project-balboa-park-san-diego-2</td>\n",
       "      <td>Pure Project - Balboa Park</td>\n",
       "      <td>https://s3-media2.fl.yelpcdn.com/bphoto/U7--bW...</td>\n",
       "      <td>False</td>\n",
       "      <td>https://www.yelp.com/biz/pure-project-balboa-p...</td>\n",
       "      <td>308</td>\n",
       "      <td>[{'alias': 'beerbar', 'title': 'Beer Bar'}, {'...</td>\n",
       "      <td>4.5</td>\n",
       "      <td>{'latitude': 32.7351148, 'longitude': -117.160...</td>\n",
       "      <td>[]</td>\n",
       "      <td>$$</td>\n",
       "      <td>{'address1': '2865 Fifth Ave', 'address2': Non...</td>\n",
       "      <td>+16193232000</td>\n",
       "      <td>(619) 323-2000</td>\n",
       "      <td>11547.732050</td>\n",
       "    </tr>\n",
       "  </tbody>\n",
       "</table>\n",
       "</div>"
      ],
      "text/plain": [
       "                       id                                    alias  \\\n",
       "0  W0ZlPspAw4-QyMAlwHhyyw    hopnonymous-brewing-company-san-diego   \n",
       "1  v1GulCBkuV31WR2K3kFQfA                     the-gärten-san-diego   \n",
       "2  xQTGzTqu9AO1czRy1yw4rw  harland-brewing-scripps-ranch-san-diego   \n",
       "3  R1HTs48IfVhaCL39KMRwkg                mcilhenney-brewing-alpine   \n",
       "4  fC-Q6SNAARW0eaKlBo737w     pure-project-balboa-park-san-diego-2   \n",
       "\n",
       "                              name  \\\n",
       "0      Hopnonymous Brewing Company   \n",
       "1                       The Gärten   \n",
       "2  Harland Brewing - Scripps Ranch   \n",
       "3               McIlhenney Brewing   \n",
       "4       Pure Project - Balboa Park   \n",
       "\n",
       "                                           image_url  is_closed  \\\n",
       "0  https://s3-media2.fl.yelpcdn.com/bphoto/8TMmgM...      False   \n",
       "1  https://s3-media3.fl.yelpcdn.com/bphoto/Q-EMyi...      False   \n",
       "2  https://s3-media4.fl.yelpcdn.com/bphoto/UwyWMD...      False   \n",
       "3  https://s3-media1.fl.yelpcdn.com/bphoto/cI3dIR...      False   \n",
       "4  https://s3-media2.fl.yelpcdn.com/bphoto/U7--bW...      False   \n",
       "\n",
       "                                                 url  review_count  \\\n",
       "0  https://www.yelp.com/biz/hopnonymous-brewing-c...           123   \n",
       "1  https://www.yelp.com/biz/the-g%C3%A4rten-san-d...            10   \n",
       "2  https://www.yelp.com/biz/harland-brewing-scrip...           125   \n",
       "3  https://www.yelp.com/biz/mcilhenney-brewing-al...            21   \n",
       "4  https://www.yelp.com/biz/pure-project-balboa-p...           308   \n",
       "\n",
       "                                          categories  rating  \\\n",
       "0     [{'alias': 'breweries', 'title': 'Breweries'}]     5.0   \n",
       "1  [{'alias': 'beergardens', 'title': 'Beer Garde...     4.5   \n",
       "2     [{'alias': 'breweries', 'title': 'Breweries'}]     4.5   \n",
       "3       [{'alias': 'brewpubs', 'title': 'Brewpubs'}]     5.0   \n",
       "4  [{'alias': 'beerbar', 'title': 'Beer Bar'}, {'...     4.5   \n",
       "\n",
       "                                         coordinates transactions price  \\\n",
       "0  {'latitude': 32.834408865, 'longitude': -117.1...           []     $   \n",
       "1  {'latitude': 32.764478, 'longitude': -117.199122}           []   NaN   \n",
       "2  {'latitude': 32.9020727428145, 'longitude': -1...           []    $$   \n",
       "3    {'latitude': 32.83467, 'longitude': -116.76268}           []     $   \n",
       "4  {'latitude': 32.7351148, 'longitude': -117.160...           []    $$   \n",
       "\n",
       "                                            location         phone  \\\n",
       "0  {'address1': '7705 Convoy Ct', 'address2': Non...  +16198474628   \n",
       "1  {'address1': '5322 Banks St', 'address2': '', ...                 \n",
       "2  {'address1': '10115 Carroll Canyon Rd', 'addre...  +18588004566   \n",
       "3  {'address1': '2363 Alpine Blvd', 'address2': '...                 \n",
       "4  {'address1': '2865 Fifth Ave', 'address2': Non...  +16193232000   \n",
       "\n",
       "    display_phone      distance  \n",
       "0  (619) 847-4628   5686.154762  \n",
       "1                  11731.220811  \n",
       "2  (858) 800-4566   8810.771101  \n",
       "3                  31083.512766  \n",
       "4  (619) 323-2000  11547.732050  "
      ]
     },
     "metadata": {},
     "output_type": "display_data"
    },
    {
     "data": {
      "text/html": [
       "<div>\n",
       "<style scoped>\n",
       "    .dataframe tbody tr th:only-of-type {\n",
       "        vertical-align: middle;\n",
       "    }\n",
       "\n",
       "    .dataframe tbody tr th {\n",
       "        vertical-align: top;\n",
       "    }\n",
       "\n",
       "    .dataframe thead th {\n",
       "        text-align: right;\n",
       "    }\n",
       "</style>\n",
       "<table border=\"1\" class=\"dataframe\">\n",
       "  <thead>\n",
       "    <tr style=\"text-align: right;\">\n",
       "      <th></th>\n",
       "      <th>id</th>\n",
       "      <th>alias</th>\n",
       "      <th>name</th>\n",
       "      <th>image_url</th>\n",
       "      <th>is_closed</th>\n",
       "      <th>url</th>\n",
       "      <th>review_count</th>\n",
       "      <th>categories</th>\n",
       "      <th>rating</th>\n",
       "      <th>coordinates</th>\n",
       "      <th>transactions</th>\n",
       "      <th>price</th>\n",
       "      <th>location</th>\n",
       "      <th>phone</th>\n",
       "      <th>display_phone</th>\n",
       "      <th>distance</th>\n",
       "    </tr>\n",
       "  </thead>\n",
       "  <tbody>\n",
       "    <tr>\n",
       "      <th>995</th>\n",
       "      <td>u1O3IvpF2AVzZ1dMVy3FIQ</td>\n",
       "      <td>second-nature-san-diego-2</td>\n",
       "      <td>Second Nature</td>\n",
       "      <td>https://s3-media2.fl.yelpcdn.com/bphoto/9NuNcl...</td>\n",
       "      <td>False</td>\n",
       "      <td>https://www.yelp.com/biz/second-nature-san-die...</td>\n",
       "      <td>467</td>\n",
       "      <td>[{'alias': 'breakfast_brunch', 'title': 'Break...</td>\n",
       "      <td>4.0</td>\n",
       "      <td>{'latitude': 32.8064230252045, 'longitude': -1...</td>\n",
       "      <td>[pickup, delivery]</td>\n",
       "      <td>$$</td>\n",
       "      <td>{'address1': '5026 Cass St', 'address2': '', '...</td>\n",
       "      <td>+18582475236</td>\n",
       "      <td>(858) 247-5236</td>\n",
       "      <td>15051.632859</td>\n",
       "    </tr>\n",
       "    <tr>\n",
       "      <th>996</th>\n",
       "      <td>RY88vFYtQKnsmMBKgp764A</td>\n",
       "      <td>board-and-brew-poway-poway-2</td>\n",
       "      <td>Board &amp; Brew - Poway</td>\n",
       "      <td>https://s3-media2.fl.yelpcdn.com/bphoto/YmYQqb...</td>\n",
       "      <td>False</td>\n",
       "      <td>https://www.yelp.com/biz/board-and-brew-poway-...</td>\n",
       "      <td>68</td>\n",
       "      <td>[{'alias': 'beerbar', 'title': 'Beer Bar'}, {'...</td>\n",
       "      <td>3.5</td>\n",
       "      <td>{'latitude': 32.955528177006634, 'longitude': ...</td>\n",
       "      <td>[]</td>\n",
       "      <td>$$</td>\n",
       "      <td>{'address1': '13501 Poway Rd', 'address2': '',...</td>\n",
       "      <td></td>\n",
       "      <td></td>\n",
       "      <td>15585.479680</td>\n",
       "    </tr>\n",
       "    <tr>\n",
       "      <th>997</th>\n",
       "      <td>vmki6c3e8OJfT4GNU98gHA</td>\n",
       "      <td>lips-san-diego-san-diego</td>\n",
       "      <td>Lips - San Diego</td>\n",
       "      <td>https://s3-media2.fl.yelpcdn.com/bphoto/5fZM60...</td>\n",
       "      <td>False</td>\n",
       "      <td>https://www.yelp.com/biz/lips-san-diego-san-di...</td>\n",
       "      <td>940</td>\n",
       "      <td>[{'alias': 'bars', 'title': 'Bars'}, {'alias':...</td>\n",
       "      <td>4.0</td>\n",
       "      <td>{'latitude': 32.7557199, 'longitude': -117.12923}</td>\n",
       "      <td>[delivery]</td>\n",
       "      <td>$$$</td>\n",
       "      <td>{'address1': '3036 El Cajon Blvd', 'address2':...</td>\n",
       "      <td>+16192957900</td>\n",
       "      <td>(619) 295-7900</td>\n",
       "      <td>8204.584063</td>\n",
       "    </tr>\n",
       "    <tr>\n",
       "      <th>998</th>\n",
       "      <td>u5piYYCVj2RutXlbipzGdA</td>\n",
       "      <td>sótano-suizo-tijuana-2</td>\n",
       "      <td>Sótano Suizo</td>\n",
       "      <td>https://s3-media3.fl.yelpcdn.com/bphoto/gKANCR...</td>\n",
       "      <td>False</td>\n",
       "      <td>https://www.yelp.com/biz/s%C3%B3tano-suizo-tij...</td>\n",
       "      <td>70</td>\n",
       "      <td>[{'alias': 'pubs', 'title': 'Pubs'}]</td>\n",
       "      <td>4.5</td>\n",
       "      <td>{'latitude': 32.5277160750546, 'longitude': -1...</td>\n",
       "      <td>[]</td>\n",
       "      <td>$$</td>\n",
       "      <td>{'address1': 'Paseo de los Héroes 9415', 'addr...</td>\n",
       "      <td>+526646848834</td>\n",
       "      <td>+52 664 684 8834</td>\n",
       "      <td>33575.038722</td>\n",
       "    </tr>\n",
       "    <tr>\n",
       "      <th>999</th>\n",
       "      <td>aVQ74QsVsH0oUdl6hC3JUg</td>\n",
       "      <td>the-wine-shop-san-diego</td>\n",
       "      <td>The Wine Shop</td>\n",
       "      <td>https://s3-media2.fl.yelpcdn.com/bphoto/LAjlpD...</td>\n",
       "      <td>False</td>\n",
       "      <td>https://www.yelp.com/biz/the-wine-shop-san-die...</td>\n",
       "      <td>7</td>\n",
       "      <td>[{'alias': 'wine_bars', 'title': 'Wine Bars'},...</td>\n",
       "      <td>5.0</td>\n",
       "      <td>{'latitude': 32.75263, 'longitude': -117.19624}</td>\n",
       "      <td>[]</td>\n",
       "      <td>NaN</td>\n",
       "      <td>{'address1': '2548 Congress St', 'address2': '...</td>\n",
       "      <td></td>\n",
       "      <td></td>\n",
       "      <td>12318.974634</td>\n",
       "    </tr>\n",
       "  </tbody>\n",
       "</table>\n",
       "</div>"
      ],
      "text/plain": [
       "                         id                         alias  \\\n",
       "995  u1O3IvpF2AVzZ1dMVy3FIQ     second-nature-san-diego-2   \n",
       "996  RY88vFYtQKnsmMBKgp764A  board-and-brew-poway-poway-2   \n",
       "997  vmki6c3e8OJfT4GNU98gHA      lips-san-diego-san-diego   \n",
       "998  u5piYYCVj2RutXlbipzGdA        sótano-suizo-tijuana-2   \n",
       "999  aVQ74QsVsH0oUdl6hC3JUg       the-wine-shop-san-diego   \n",
       "\n",
       "                     name                                          image_url  \\\n",
       "995         Second Nature  https://s3-media2.fl.yelpcdn.com/bphoto/9NuNcl...   \n",
       "996  Board & Brew - Poway  https://s3-media2.fl.yelpcdn.com/bphoto/YmYQqb...   \n",
       "997      Lips - San Diego  https://s3-media2.fl.yelpcdn.com/bphoto/5fZM60...   \n",
       "998          Sótano Suizo  https://s3-media3.fl.yelpcdn.com/bphoto/gKANCR...   \n",
       "999         The Wine Shop  https://s3-media2.fl.yelpcdn.com/bphoto/LAjlpD...   \n",
       "\n",
       "     is_closed                                                url  \\\n",
       "995      False  https://www.yelp.com/biz/second-nature-san-die...   \n",
       "996      False  https://www.yelp.com/biz/board-and-brew-poway-...   \n",
       "997      False  https://www.yelp.com/biz/lips-san-diego-san-di...   \n",
       "998      False  https://www.yelp.com/biz/s%C3%B3tano-suizo-tij...   \n",
       "999      False  https://www.yelp.com/biz/the-wine-shop-san-die...   \n",
       "\n",
       "     review_count                                         categories  rating  \\\n",
       "995           467  [{'alias': 'breakfast_brunch', 'title': 'Break...     4.0   \n",
       "996            68  [{'alias': 'beerbar', 'title': 'Beer Bar'}, {'...     3.5   \n",
       "997           940  [{'alias': 'bars', 'title': 'Bars'}, {'alias':...     4.0   \n",
       "998            70               [{'alias': 'pubs', 'title': 'Pubs'}]     4.5   \n",
       "999             7  [{'alias': 'wine_bars', 'title': 'Wine Bars'},...     5.0   \n",
       "\n",
       "                                           coordinates        transactions  \\\n",
       "995  {'latitude': 32.8064230252045, 'longitude': -1...  [pickup, delivery]   \n",
       "996  {'latitude': 32.955528177006634, 'longitude': ...                  []   \n",
       "997  {'latitude': 32.7557199, 'longitude': -117.12923}          [delivery]   \n",
       "998  {'latitude': 32.5277160750546, 'longitude': -1...                  []   \n",
       "999    {'latitude': 32.75263, 'longitude': -117.19624}                  []   \n",
       "\n",
       "    price                                           location          phone  \\\n",
       "995    $$  {'address1': '5026 Cass St', 'address2': '', '...   +18582475236   \n",
       "996    $$  {'address1': '13501 Poway Rd', 'address2': '',...                  \n",
       "997   $$$  {'address1': '3036 El Cajon Blvd', 'address2':...   +16192957900   \n",
       "998    $$  {'address1': 'Paseo de los Héroes 9415', 'addr...  +526646848834   \n",
       "999   NaN  {'address1': '2548 Congress St', 'address2': '...                  \n",
       "\n",
       "        display_phone      distance  \n",
       "995    (858) 247-5236  15051.632859  \n",
       "996                    15585.479680  \n",
       "997    (619) 295-7900   8204.584063  \n",
       "998  +52 664 684 8834  33575.038722  \n",
       "999                    12318.974634  "
      ]
     },
     "metadata": {},
     "output_type": "display_data"
    }
   ],
   "source": [
    "final_df = pd.read_json(JSON_FILE)\n",
    "display(final_df.head(), final_df.tail())"
   ]
  },
  {
   "cell_type": "code",
   "execution_count": 136,
   "metadata": {},
   "outputs": [
    {
     "data": {
      "text/plain": [
       "0"
      ]
     },
     "execution_count": 136,
     "metadata": {},
     "output_type": "execute_result"
    }
   ],
   "source": [
    "final_df = final_df.drop_duplicates(subset='id')\n",
    "final_df.duplicated(subset='id').sum()"
   ]
  },
  {
   "cell_type": "code",
   "execution_count": 137,
   "metadata": {},
   "outputs": [],
   "source": [
    "# save the final results to a compressed csv for storage efficiency\n",
    "final_df.to_csv(f\"Data/final_results_{LOCATION.replace(' ', '')}_{TERM.replace(' ', '')}.csv.gz\", compression='gzip', index=False)"
   ]
  }
 ],
 "metadata": {
  "kernelspec": {
   "display_name": "dojo-env",
   "language": "python",
   "name": "python3"
  },
  "language_info": {
   "codemirror_mode": {
    "name": "ipython",
    "version": 3
   },
   "file_extension": ".py",
   "mimetype": "text/x-python",
   "name": "python",
   "nbconvert_exporter": "python",
   "pygments_lexer": "ipython3",
   "version": "3.9.15"
  },
  "orig_nbformat": 4
 },
 "nbformat": 4,
 "nbformat_minor": 2
}
