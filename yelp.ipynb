{
 "cells": [
  {
   "attachments": {},
   "cell_type": "markdown",
   "metadata": {},
   "source": [
    "# **Yelp API Core**\n",
    "\n",
    "_John Andrew Dixon_\n",
    "\n",
    "---\n",
    "\n",
    "##### **Imports**"
   ]
  },
  {
   "cell_type": "code",
   "execution_count": 178,
   "metadata": {},
   "outputs": [],
   "source": [
    "import json, math, os, time\n",
    "import numpy as np\n",
    "import pandas as pd\n",
    "from yelpapi import YelpAPI\n",
    "from tqdm.notebook import tqdm_notebook"
   ]
  },
  {
   "attachments": {},
   "cell_type": "markdown",
   "metadata": {},
   "source": [
    "##### **Help Functions**"
   ]
  },
  {
   "cell_type": "code",
   "execution_count": 179,
   "metadata": {},
   "outputs": [],
   "source": [
    "def create_json_file(JSON_FILE, delete_if_exists=False):\n",
    "\n",
    "    # Check if the specified file exists\n",
    "    file_exists = os.path.isfile(JSON_FILE)\n",
    "\n",
    "\n",
    "\n",
    "    # If the file does not exist\n",
    "    if not file_exists:\n",
    "\n",
    "        # Notify that the file is being created.\n",
    "        print(f\"[i] File does not exist: creating {JSON_FILE} now.\")\n",
    "\n",
    "        # Get the folder name where the file will be saved.\n",
    "        folder = os.path.dirname(JSON_FILE)\n",
    "\n",
    "        # If the file is contained within a folder create it.\n",
    "        if len(folder) > 0:\n",
    "            os.makedirs(folder, exist_ok=True)\n",
    "\n",
    "        # Save an empty list to the file that was created.\n",
    "        with open(JSON_FILE, \"w\") as f:\n",
    "            json.dump([], f)\n",
    "\n",
    "\n",
    "\n",
    "    # If the file does exist\n",
    "    else:\n",
    "\n",
    "        # If the user wants to delete the file\n",
    "        if delete_if_exists:\n",
    "            print(f\"[i] File {JSON_FILE} exists. Deleting it now...\")\n",
    "            # Remove the file\n",
    "            os.remove(JSON_FILE)\n",
    "            # Recursively call the function with the delete_if_exists \n",
    "            # argument's default to create the new file\n",
    "            create_json_file(JSON_FILE)\n",
    "\n",
    "        # If the user does not want to delete the file\n",
    "        else:\n",
    "            # Notify that it exists\n",
    "            print(f\"[i] File {JSON_FILE} exists.\")"
   ]
  },
  {
   "attachments": {},
   "cell_type": "markdown",
   "metadata": {},
   "source": [
    "---\n",
    "\n",
    "## **Efficient YelpAPI Calls**"
   ]
  },
  {
   "attachments": {},
   "cell_type": "markdown",
   "metadata": {},
   "source": [
    "##### _API Setup_"
   ]
  },
  {
   "cell_type": "code",
   "execution_count": 180,
   "metadata": {},
   "outputs": [
    {
     "data": {
      "text/plain": [
       "<yelpapi.yelpapi.YelpAPI at 0x24701fed4c0>"
      ]
     },
     "execution_count": 180,
     "metadata": {},
     "output_type": "execute_result"
    }
   ],
   "source": [
    "# Load YelpAPI credentials from the JSON files\n",
    "with open(\"/Users/johna/.secret/yelp_api.json\") as f:\n",
    "    login = json.load(f)\n",
    "\n",
    "# Instantiate YelpAPI object\n",
    "yelp_api = YelpAPI(login['api-key'], timeout_s=5.0)\n",
    "yelp_api"
   ]
  },
  {
   "cell_type": "code",
   "execution_count": 181,
   "metadata": {},
   "outputs": [
    {
     "data": {
      "text/plain": [
       "'San Diego, CA'"
      ]
     },
     "metadata": {},
     "output_type": "display_data"
    },
    {
     "data": {
      "text/plain": [
       "'beer'"
      ]
     },
     "metadata": {},
     "output_type": "display_data"
    }
   ],
   "source": [
    "# Create the location and term strings\n",
    "LOCATION = \"San Diego, CA\"\n",
    "TERM = \"beer\"\n",
    "display(LOCATION, TERM)"
   ]
  },
  {
   "cell_type": "code",
   "execution_count": 182,
   "metadata": {},
   "outputs": [
    {
     "data": {
      "text/plain": [
       "'Data/results_in_progress_SanDiego,CA_beer.json'"
      ]
     },
     "execution_count": 182,
     "metadata": {},
     "output_type": "execute_result"
    }
   ],
   "source": [
    "# Specify the file name with the search terms as part of the name\n",
    "JSON_FILE = f\"Data/results_in_progress_{LOCATION.replace(' ', '')}_{TERM.replace(' ', '')}.json\"\n",
    "JSON_FILE"
   ]
  },
  {
   "cell_type": "code",
   "execution_count": 183,
   "metadata": {},
   "outputs": [
    {
     "name": "stdout",
     "output_type": "stream",
     "text": [
      "[i] File Data/results_in_progress_SanDiego,CA_beer.json exists. Deleting it now...\n",
      "[i] File does not exist: creating Data/results_in_progress_SanDiego,CA_beer.json now.\n"
     ]
    }
   ],
   "source": [
    "# Call the helper function to aid in creating the file\n",
    "create_json_file(JSON_FILE, delete_if_exists=True)"
   ]
  },
  {
   "cell_type": "code",
   "execution_count": 184,
   "metadata": {},
   "outputs": [
    {
     "name": "stdout",
     "output_type": "stream",
     "text": [
      "There are 0 previous results.\n"
     ]
    }
   ],
   "source": [
    "# Load previous results.\n",
    "with open(JSON_FILE, \"r\") as f:\n",
    "    previous_results = json.load(f)\n",
    "\n",
    "# Notify how many previous results there were.\n",
    "n_results = len(previous_results)\n",
    "print(f\"There are {n_results} previous results.\")"
   ]
  },
  {
   "cell_type": "code",
   "execution_count": 185,
   "metadata": {},
   "outputs": [
    {
     "name": "stdout",
     "output_type": "stream",
     "text": [
      "There are 4500 total search results.\n"
     ]
    }
   ],
   "source": [
    "# Preform an API call with the results offset.\n",
    "results = yelp_api.search_query(location=LOCATION,\n",
    "                                term=TERM,\n",
    "                                offset=n_results)\n",
    "\n",
    "# Show the total amount of results for verification and future reference.\n",
    "print(f\"There are {results['total']} total search results.\")"
   ]
  },
  {
   "cell_type": "code",
   "execution_count": 186,
   "metadata": {},
   "outputs": [
    {
     "name": "stdout",
     "output_type": "stream",
     "text": [
      "There are 20 results per page.\n"
     ]
    }
   ],
   "source": [
    "# Print the amount of results per page\n",
    "results_per_page = len(results['businesses'])\n",
    "print(f\"There are {results_per_page} results per page.\")"
   ]
  },
  {
   "cell_type": "code",
   "execution_count": 187,
   "metadata": {},
   "outputs": [
    {
     "name": "stdout",
     "output_type": "stream",
     "text": [
      "There are 225 pages.\n"
     ]
    }
   ],
   "source": [
    "# Create the number of pages by getting the total results and subtracting\n",
    "# the previous results and then diving this by the amount of results per page\n",
    "# given by len(results[\"businesses\"]).\n",
    "n_pages = math.ceil((results[\"total\"] - n_results) / results_per_page)\n",
    "print(f\"There are {n_pages} pages.\")"
   ]
  },
  {
   "cell_type": "code",
   "execution_count": 188,
   "metadata": {},
   "outputs": [
    {
     "data": {
      "application/vnd.jupyter.widget-view+json": {
       "model_id": "41cdd36416fd4b80b98f71d05f00e2d4",
       "version_major": 2,
       "version_minor": 0
      },
      "text/plain": [
       "  0%|          | 0/225 [00:00<?, ?it/s]"
      ]
     },
     "metadata": {},
     "output_type": "display_data"
    },
    {
     "name": "stdout",
     "output_type": "stream",
     "text": [
      "Exceeded result limit of 1000. Stopping loop...\n"
     ]
    }
   ],
   "source": [
    "# Loop through each page\n",
    "for i in tqdm_notebook(range(1, n_pages + 1)):\n",
    "\n",
    "    # Load previous results.\n",
    "    with open(JSON_FILE, \"r\") as f:\n",
    "        previous_results = json.load(f)\n",
    "\n",
    "    # Save the amount of previous results.\n",
    "    n_results = len(previous_results)\n",
    "\n",
    "    # Exit out of the loop if the results exceed the limit  \n",
    "    if (n_results + results_per_page) > 1000:\n",
    "        print(\"Exceeded result limit of 1000. Stopping loop...\")\n",
    "        break\n",
    "\n",
    "    # Preform an API call with the results offset.\n",
    "    results = yelp_api.search_query(location=LOCATION,\n",
    "                                    term=TERM,\n",
    "                                    offset=n_results)\n",
    "    \n",
    "    # Append new results\n",
    "    previous_results.extend(results[\"businesses\"])\n",
    "\n",
    "    # Dump all current iteration results to target file\n",
    "    with open(JSON_FILE,'w') as f:\n",
    "        json.dump(previous_results, f)\n",
    "\n",
    "    # Add a 200 ms pause for better progress bar visualization\n",
    "    time.sleep(.2)"
   ]
  },
  {
   "cell_type": "code",
   "execution_count": 189,
   "metadata": {},
   "outputs": [
    {
     "data": {
      "text/html": [
       "<div>\n",
       "<style scoped>\n",
       "    .dataframe tbody tr th:only-of-type {\n",
       "        vertical-align: middle;\n",
       "    }\n",
       "\n",
       "    .dataframe tbody tr th {\n",
       "        vertical-align: top;\n",
       "    }\n",
       "\n",
       "    .dataframe thead th {\n",
       "        text-align: right;\n",
       "    }\n",
       "</style>\n",
       "<table border=\"1\" class=\"dataframe\">\n",
       "  <thead>\n",
       "    <tr style=\"text-align: right;\">\n",
       "      <th></th>\n",
       "      <th>id</th>\n",
       "      <th>alias</th>\n",
       "      <th>name</th>\n",
       "      <th>image_url</th>\n",
       "      <th>is_closed</th>\n",
       "      <th>url</th>\n",
       "      <th>review_count</th>\n",
       "      <th>categories</th>\n",
       "      <th>rating</th>\n",
       "      <th>coordinates</th>\n",
       "      <th>transactions</th>\n",
       "      <th>location</th>\n",
       "      <th>phone</th>\n",
       "      <th>display_phone</th>\n",
       "      <th>distance</th>\n",
       "      <th>price</th>\n",
       "    </tr>\n",
       "  </thead>\n",
       "  <tbody>\n",
       "    <tr>\n",
       "      <th>0</th>\n",
       "      <td>v1GulCBkuV31WR2K3kFQfA</td>\n",
       "      <td>the-gärten-san-diego</td>\n",
       "      <td>The Gärten</td>\n",
       "      <td>https://s3-media3.fl.yelpcdn.com/bphoto/Q-EMyi...</td>\n",
       "      <td>False</td>\n",
       "      <td>https://www.yelp.com/biz/the-g%C3%A4rten-san-d...</td>\n",
       "      <td>10</td>\n",
       "      <td>[{'alias': 'beergardens', 'title': 'Beer Garde...</td>\n",
       "      <td>4.5</td>\n",
       "      <td>{'latitude': 32.764478, 'longitude': -117.199122}</td>\n",
       "      <td>[]</td>\n",
       "      <td>{'address1': '5322 Banks St', 'address2': '', ...</td>\n",
       "      <td></td>\n",
       "      <td></td>\n",
       "      <td>11731.220811</td>\n",
       "      <td>NaN</td>\n",
       "    </tr>\n",
       "    <tr>\n",
       "      <th>1</th>\n",
       "      <td>GkMleu5sddDUBmqKJ7tkdA</td>\n",
       "      <td>taproom-beer-co-san-diego</td>\n",
       "      <td>TapRoom Beer Co</td>\n",
       "      <td>https://s3-media4.fl.yelpcdn.com/bphoto/l1gRK3...</td>\n",
       "      <td>False</td>\n",
       "      <td>https://www.yelp.com/biz/taproom-beer-co-san-d...</td>\n",
       "      <td>195</td>\n",
       "      <td>[{'alias': 'breweries', 'title': 'Breweries'},...</td>\n",
       "      <td>4.5</td>\n",
       "      <td>{'latitude': 32.75567, 'longitude': -117.14347}</td>\n",
       "      <td>[pickup, delivery]</td>\n",
       "      <td>{'address1': '2000 El Cajon Blvd', 'address2':...</td>\n",
       "      <td>+16195397738</td>\n",
       "      <td>(619) 539-7738</td>\n",
       "      <td>8819.092243</td>\n",
       "      <td>$$</td>\n",
       "    </tr>\n",
       "    <tr>\n",
       "      <th>2</th>\n",
       "      <td>zDRzccJo9qgKYLvAjuGl8w</td>\n",
       "      <td>groundswell-brewing-company-san-diego</td>\n",
       "      <td>Groundswell Brewing Company</td>\n",
       "      <td>https://s3-media4.fl.yelpcdn.com/bphoto/CC1lcc...</td>\n",
       "      <td>False</td>\n",
       "      <td>https://www.yelp.com/biz/groundswell-brewing-c...</td>\n",
       "      <td>131</td>\n",
       "      <td>[{'alias': 'breweries', 'title': 'Breweries'}]</td>\n",
       "      <td>4.0</td>\n",
       "      <td>{'latitude': 32.788978269559365, 'longitude': ...</td>\n",
       "      <td>[]</td>\n",
       "      <td>{'address1': '6304 Riverdale St', 'address2': ...</td>\n",
       "      <td>+16197952337</td>\n",
       "      <td>(619) 795-2337</td>\n",
       "      <td>3867.685781</td>\n",
       "      <td>$</td>\n",
       "    </tr>\n",
       "    <tr>\n",
       "      <th>3</th>\n",
       "      <td>5HPGruCzXhweiDrN1KqnhQ</td>\n",
       "      <td>cork-n-brew-san-diego</td>\n",
       "      <td>Cork N Brew</td>\n",
       "      <td>https://s3-media4.fl.yelpcdn.com/bphoto/JaZ-ST...</td>\n",
       "      <td>False</td>\n",
       "      <td>https://www.yelp.com/biz/cork-n-brew-san-diego...</td>\n",
       "      <td>5</td>\n",
       "      <td>[{'alias': 'beerbar', 'title': 'Beer Bar'}, {'...</td>\n",
       "      <td>5.0</td>\n",
       "      <td>{'latitude': 32.71115769039964, 'longitude': -...</td>\n",
       "      <td>[]</td>\n",
       "      <td>{'address1': '550 Park Blvd', 'address2': None...</td>\n",
       "      <td>+16199155881</td>\n",
       "      <td>(619) 915-5881</td>\n",
       "      <td>13661.455147</td>\n",
       "      <td>NaN</td>\n",
       "    </tr>\n",
       "    <tr>\n",
       "      <th>4</th>\n",
       "      <td>gh1r0PvTWoTpjcj2JW4c8w</td>\n",
       "      <td>common-theory-san-diego-3</td>\n",
       "      <td>Common Theory</td>\n",
       "      <td>https://s3-media4.fl.yelpcdn.com/bphoto/u5S738...</td>\n",
       "      <td>False</td>\n",
       "      <td>https://www.yelp.com/biz/common-theory-san-die...</td>\n",
       "      <td>1435</td>\n",
       "      <td>[{'alias': 'gastropubs', 'title': 'Gastropubs'...</td>\n",
       "      <td>4.0</td>\n",
       "      <td>{'latitude': 32.8293223613103, 'longitude': -1...</td>\n",
       "      <td>[delivery]</td>\n",
       "      <td>{'address1': '4805 Convoy St', 'address2': '',...</td>\n",
       "      <td>+16197806689</td>\n",
       "      <td>(619) 780-6689</td>\n",
       "      <td>5432.121827</td>\n",
       "      <td>$$</td>\n",
       "    </tr>\n",
       "  </tbody>\n",
       "</table>\n",
       "</div>"
      ],
      "text/plain": [
       "                       id                                  alias  \\\n",
       "0  v1GulCBkuV31WR2K3kFQfA                   the-gärten-san-diego   \n",
       "1  GkMleu5sddDUBmqKJ7tkdA              taproom-beer-co-san-diego   \n",
       "2  zDRzccJo9qgKYLvAjuGl8w  groundswell-brewing-company-san-diego   \n",
       "3  5HPGruCzXhweiDrN1KqnhQ                  cork-n-brew-san-diego   \n",
       "4  gh1r0PvTWoTpjcj2JW4c8w              common-theory-san-diego-3   \n",
       "\n",
       "                          name  \\\n",
       "0                   The Gärten   \n",
       "1              TapRoom Beer Co   \n",
       "2  Groundswell Brewing Company   \n",
       "3                  Cork N Brew   \n",
       "4                Common Theory   \n",
       "\n",
       "                                           image_url  is_closed  \\\n",
       "0  https://s3-media3.fl.yelpcdn.com/bphoto/Q-EMyi...      False   \n",
       "1  https://s3-media4.fl.yelpcdn.com/bphoto/l1gRK3...      False   \n",
       "2  https://s3-media4.fl.yelpcdn.com/bphoto/CC1lcc...      False   \n",
       "3  https://s3-media4.fl.yelpcdn.com/bphoto/JaZ-ST...      False   \n",
       "4  https://s3-media4.fl.yelpcdn.com/bphoto/u5S738...      False   \n",
       "\n",
       "                                                 url  review_count  \\\n",
       "0  https://www.yelp.com/biz/the-g%C3%A4rten-san-d...            10   \n",
       "1  https://www.yelp.com/biz/taproom-beer-co-san-d...           195   \n",
       "2  https://www.yelp.com/biz/groundswell-brewing-c...           131   \n",
       "3  https://www.yelp.com/biz/cork-n-brew-san-diego...             5   \n",
       "4  https://www.yelp.com/biz/common-theory-san-die...          1435   \n",
       "\n",
       "                                          categories  rating  \\\n",
       "0  [{'alias': 'beergardens', 'title': 'Beer Garde...     4.5   \n",
       "1  [{'alias': 'breweries', 'title': 'Breweries'},...     4.5   \n",
       "2     [{'alias': 'breweries', 'title': 'Breweries'}]     4.0   \n",
       "3  [{'alias': 'beerbar', 'title': 'Beer Bar'}, {'...     5.0   \n",
       "4  [{'alias': 'gastropubs', 'title': 'Gastropubs'...     4.0   \n",
       "\n",
       "                                         coordinates        transactions  \\\n",
       "0  {'latitude': 32.764478, 'longitude': -117.199122}                  []   \n",
       "1    {'latitude': 32.75567, 'longitude': -117.14347}  [pickup, delivery]   \n",
       "2  {'latitude': 32.788978269559365, 'longitude': ...                  []   \n",
       "3  {'latitude': 32.71115769039964, 'longitude': -...                  []   \n",
       "4  {'latitude': 32.8293223613103, 'longitude': -1...          [delivery]   \n",
       "\n",
       "                                            location         phone  \\\n",
       "0  {'address1': '5322 Banks St', 'address2': '', ...                 \n",
       "1  {'address1': '2000 El Cajon Blvd', 'address2':...  +16195397738   \n",
       "2  {'address1': '6304 Riverdale St', 'address2': ...  +16197952337   \n",
       "3  {'address1': '550 Park Blvd', 'address2': None...  +16199155881   \n",
       "4  {'address1': '4805 Convoy St', 'address2': '',...  +16197806689   \n",
       "\n",
       "    display_phone      distance price  \n",
       "0                  11731.220811   NaN  \n",
       "1  (619) 539-7738   8819.092243    $$  \n",
       "2  (619) 795-2337   3867.685781     $  \n",
       "3  (619) 915-5881  13661.455147   NaN  \n",
       "4  (619) 780-6689   5432.121827    $$  "
      ]
     },
     "metadata": {},
     "output_type": "display_data"
    },
    {
     "data": {
      "text/html": [
       "<div>\n",
       "<style scoped>\n",
       "    .dataframe tbody tr th:only-of-type {\n",
       "        vertical-align: middle;\n",
       "    }\n",
       "\n",
       "    .dataframe tbody tr th {\n",
       "        vertical-align: top;\n",
       "    }\n",
       "\n",
       "    .dataframe thead th {\n",
       "        text-align: right;\n",
       "    }\n",
       "</style>\n",
       "<table border=\"1\" class=\"dataframe\">\n",
       "  <thead>\n",
       "    <tr style=\"text-align: right;\">\n",
       "      <th></th>\n",
       "      <th>id</th>\n",
       "      <th>alias</th>\n",
       "      <th>name</th>\n",
       "      <th>image_url</th>\n",
       "      <th>is_closed</th>\n",
       "      <th>url</th>\n",
       "      <th>review_count</th>\n",
       "      <th>categories</th>\n",
       "      <th>rating</th>\n",
       "      <th>coordinates</th>\n",
       "      <th>transactions</th>\n",
       "      <th>location</th>\n",
       "      <th>phone</th>\n",
       "      <th>display_phone</th>\n",
       "      <th>distance</th>\n",
       "      <th>price</th>\n",
       "    </tr>\n",
       "  </thead>\n",
       "  <tbody>\n",
       "    <tr>\n",
       "      <th>995</th>\n",
       "      <td>8Ku_QTiJ9kS7wdlAKyxg3Q</td>\n",
       "      <td>turf-supper-club-san-diego</td>\n",
       "      <td>Turf Supper Club</td>\n",
       "      <td>https://s3-media3.fl.yelpcdn.com/bphoto/5Fj_o-...</td>\n",
       "      <td>False</td>\n",
       "      <td>https://www.yelp.com/biz/turf-supper-club-san-...</td>\n",
       "      <td>889</td>\n",
       "      <td>[{'alias': 'steak', 'title': 'Steakhouses'}, {...</td>\n",
       "      <td>4.0</td>\n",
       "      <td>{'latitude': 32.7173184645089, 'longitude': -1...</td>\n",
       "      <td>[delivery]</td>\n",
       "      <td>{'address1': '1116 25th St', 'address2': '', '...</td>\n",
       "      <td>+16192346363</td>\n",
       "      <td>(619) 234-6363</td>\n",
       "      <td>12551.246777</td>\n",
       "      <td>$$</td>\n",
       "    </tr>\n",
       "    <tr>\n",
       "      <th>996</th>\n",
       "      <td>AS--bXkiFStoRkwoLqkJEg</td>\n",
       "      <td>buds-louisiana-cafe-san-diego</td>\n",
       "      <td>Bud's Louisiana Cafe</td>\n",
       "      <td>https://s3-media2.fl.yelpcdn.com/bphoto/QnTJ9V...</td>\n",
       "      <td>False</td>\n",
       "      <td>https://www.yelp.com/biz/buds-louisiana-cafe-s...</td>\n",
       "      <td>2613</td>\n",
       "      <td>[{'alias': 'cajun', 'title': 'Cajun/Creole'}, ...</td>\n",
       "      <td>4.5</td>\n",
       "      <td>{'latitude': 32.821062910211, 'longitude': -11...</td>\n",
       "      <td>[delivery, restaurant_reservation]</td>\n",
       "      <td>{'address1': '4320 Viewridge Ave', 'address2':...</td>\n",
       "      <td>+18585732837</td>\n",
       "      <td>(858) 573-2837</td>\n",
       "      <td>2783.084016</td>\n",
       "      <td>$$</td>\n",
       "    </tr>\n",
       "    <tr>\n",
       "      <th>997</th>\n",
       "      <td>VGdOmRskhXWBcFAk2iADCA</td>\n",
       "      <td>littler-lounge-rancho-santa-fe</td>\n",
       "      <td>Littler Lounge</td>\n",
       "      <td>https://s3-media3.fl.yelpcdn.com/bphoto/jjBP3G...</td>\n",
       "      <td>False</td>\n",
       "      <td>https://www.yelp.com/biz/littler-lounge-rancho...</td>\n",
       "      <td>16</td>\n",
       "      <td>[{'alias': 'newamerican', 'title': 'American (...</td>\n",
       "      <td>4.0</td>\n",
       "      <td>{'latitude': 32.9908297698805, 'longitude': -1...</td>\n",
       "      <td>[]</td>\n",
       "      <td>{'address1': 'Morgan Run Club &amp; Resort', 'addr...</td>\n",
       "      <td>+18587562471</td>\n",
       "      <td>(858) 756-2471</td>\n",
       "      <td>21439.208959</td>\n",
       "      <td>$$</td>\n",
       "    </tr>\n",
       "    <tr>\n",
       "      <th>998</th>\n",
       "      <td>mzLGnmpwtrIgUeplJtmOOw</td>\n",
       "      <td>la-puerta-san-diego</td>\n",
       "      <td>La Puerta</td>\n",
       "      <td>https://s3-media4.fl.yelpcdn.com/bphoto/GPnCtL...</td>\n",
       "      <td>False</td>\n",
       "      <td>https://www.yelp.com/biz/la-puerta-san-diego?a...</td>\n",
       "      <td>4245</td>\n",
       "      <td>[{'alias': 'mexican', 'title': 'Mexican'}, {'a...</td>\n",
       "      <td>4.0</td>\n",
       "      <td>{'latitude': 32.7110023498535, 'longitude': -1...</td>\n",
       "      <td>[delivery, pickup]</td>\n",
       "      <td>{'address1': '560 4th Ave', 'address2': '', 'a...</td>\n",
       "      <td>+16196963466</td>\n",
       "      <td>(619) 696-3466</td>\n",
       "      <td>13946.648675</td>\n",
       "      <td>$$</td>\n",
       "    </tr>\n",
       "    <tr>\n",
       "      <th>999</th>\n",
       "      <td>V6gWGlvV2ZKwooOfrnh7fg</td>\n",
       "      <td>diamond-palace-san-diego</td>\n",
       "      <td>Diamond Palace</td>\n",
       "      <td>https://s3-media2.fl.yelpcdn.com/bphoto/3KxUdi...</td>\n",
       "      <td>False</td>\n",
       "      <td>https://www.yelp.com/biz/diamond-palace-san-di...</td>\n",
       "      <td>209</td>\n",
       "      <td>[{'alias': 'dimsum', 'title': 'Dim Sum'}, {'al...</td>\n",
       "      <td>4.0</td>\n",
       "      <td>{'latitude': 32.74778, 'longitude': -117.078872}</td>\n",
       "      <td>[]</td>\n",
       "      <td>{'address1': '3993 54th St', 'address2': None,...</td>\n",
       "      <td>+16192299998</td>\n",
       "      <td>(619) 229-9998</td>\n",
       "      <td>8557.474945</td>\n",
       "      <td>$$</td>\n",
       "    </tr>\n",
       "  </tbody>\n",
       "</table>\n",
       "</div>"
      ],
      "text/plain": [
       "                         id                           alias  \\\n",
       "995  8Ku_QTiJ9kS7wdlAKyxg3Q      turf-supper-club-san-diego   \n",
       "996  AS--bXkiFStoRkwoLqkJEg   buds-louisiana-cafe-san-diego   \n",
       "997  VGdOmRskhXWBcFAk2iADCA  littler-lounge-rancho-santa-fe   \n",
       "998  mzLGnmpwtrIgUeplJtmOOw             la-puerta-san-diego   \n",
       "999  V6gWGlvV2ZKwooOfrnh7fg        diamond-palace-san-diego   \n",
       "\n",
       "                     name                                          image_url  \\\n",
       "995      Turf Supper Club  https://s3-media3.fl.yelpcdn.com/bphoto/5Fj_o-...   \n",
       "996  Bud's Louisiana Cafe  https://s3-media2.fl.yelpcdn.com/bphoto/QnTJ9V...   \n",
       "997        Littler Lounge  https://s3-media3.fl.yelpcdn.com/bphoto/jjBP3G...   \n",
       "998             La Puerta  https://s3-media4.fl.yelpcdn.com/bphoto/GPnCtL...   \n",
       "999        Diamond Palace  https://s3-media2.fl.yelpcdn.com/bphoto/3KxUdi...   \n",
       "\n",
       "     is_closed                                                url  \\\n",
       "995      False  https://www.yelp.com/biz/turf-supper-club-san-...   \n",
       "996      False  https://www.yelp.com/biz/buds-louisiana-cafe-s...   \n",
       "997      False  https://www.yelp.com/biz/littler-lounge-rancho...   \n",
       "998      False  https://www.yelp.com/biz/la-puerta-san-diego?a...   \n",
       "999      False  https://www.yelp.com/biz/diamond-palace-san-di...   \n",
       "\n",
       "     review_count                                         categories  rating  \\\n",
       "995           889  [{'alias': 'steak', 'title': 'Steakhouses'}, {...     4.0   \n",
       "996          2613  [{'alias': 'cajun', 'title': 'Cajun/Creole'}, ...     4.5   \n",
       "997            16  [{'alias': 'newamerican', 'title': 'American (...     4.0   \n",
       "998          4245  [{'alias': 'mexican', 'title': 'Mexican'}, {'a...     4.0   \n",
       "999           209  [{'alias': 'dimsum', 'title': 'Dim Sum'}, {'al...     4.0   \n",
       "\n",
       "                                           coordinates  \\\n",
       "995  {'latitude': 32.7173184645089, 'longitude': -1...   \n",
       "996  {'latitude': 32.821062910211, 'longitude': -11...   \n",
       "997  {'latitude': 32.9908297698805, 'longitude': -1...   \n",
       "998  {'latitude': 32.7110023498535, 'longitude': -1...   \n",
       "999   {'latitude': 32.74778, 'longitude': -117.078872}   \n",
       "\n",
       "                           transactions  \\\n",
       "995                          [delivery]   \n",
       "996  [delivery, restaurant_reservation]   \n",
       "997                                  []   \n",
       "998                  [delivery, pickup]   \n",
       "999                                  []   \n",
       "\n",
       "                                              location         phone  \\\n",
       "995  {'address1': '1116 25th St', 'address2': '', '...  +16192346363   \n",
       "996  {'address1': '4320 Viewridge Ave', 'address2':...  +18585732837   \n",
       "997  {'address1': 'Morgan Run Club & Resort', 'addr...  +18587562471   \n",
       "998  {'address1': '560 4th Ave', 'address2': '', 'a...  +16196963466   \n",
       "999  {'address1': '3993 54th St', 'address2': None,...  +16192299998   \n",
       "\n",
       "      display_phone      distance price  \n",
       "995  (619) 234-6363  12551.246777    $$  \n",
       "996  (858) 573-2837   2783.084016    $$  \n",
       "997  (858) 756-2471  21439.208959    $$  \n",
       "998  (619) 696-3466  13946.648675    $$  \n",
       "999  (619) 229-9998   8557.474945    $$  "
      ]
     },
     "metadata": {},
     "output_type": "display_data"
    }
   ],
   "source": [
    "# Create the final DataFrame\n",
    "final_df = pd.read_json(JSON_FILE)\n",
    "# Display the final DataFrame's head and tail\n",
    "display(final_df.head(), final_df.tail())"
   ]
  },
  {
   "cell_type": "code",
   "execution_count": 190,
   "metadata": {},
   "outputs": [
    {
     "data": {
      "text/plain": [
       "0"
      ]
     },
     "execution_count": 190,
     "metadata": {},
     "output_type": "execute_result"
    }
   ],
   "source": [
    "# Just in case, drop duplicates and verify \n",
    "final_df = final_df.drop_duplicates(subset='id')\n",
    "final_df.duplicated(subset='id').sum()"
   ]
  },
  {
   "cell_type": "code",
   "execution_count": 191,
   "metadata": {},
   "outputs": [
    {
     "name": "stdout",
     "output_type": "stream",
     "text": [
      "<class 'pandas.core.frame.DataFrame'>\n",
      "Int64Index: 1000 entries, 0 to 999\n",
      "Data columns (total 16 columns):\n",
      " #   Column         Non-Null Count  Dtype  \n",
      "---  ------         --------------  -----  \n",
      " 0   id             1000 non-null   object \n",
      " 1   alias          1000 non-null   object \n",
      " 2   name           1000 non-null   object \n",
      " 3   image_url      1000 non-null   object \n",
      " 4   is_closed      1000 non-null   bool   \n",
      " 5   url            1000 non-null   object \n",
      " 6   review_count   1000 non-null   int64  \n",
      " 7   categories     1000 non-null   object \n",
      " 8   rating         1000 non-null   float64\n",
      " 9   coordinates    1000 non-null   object \n",
      " 10  transactions   1000 non-null   object \n",
      " 11  location       1000 non-null   object \n",
      " 12  phone          1000 non-null   object \n",
      " 13  display_phone  1000 non-null   object \n",
      " 14  distance       1000 non-null   float64\n",
      " 15  price          848 non-null    object \n",
      "dtypes: bool(1), float64(2), int64(1), object(12)\n",
      "memory usage: 126.0+ KB\n"
     ]
    }
   ],
   "source": [
    "# Get a quick info of the final DataFrame\n",
    "final_df.info()"
   ]
  },
  {
   "cell_type": "code",
   "execution_count": 192,
   "metadata": {},
   "outputs": [],
   "source": [
    "# Save the final results to a compressed csv for storage efficiency\n",
    "final_df.to_csv(f\"Data/final_results_{LOCATION.replace(' ', '')}_{TERM.replace(' ', '')}.csv.gz\", compression='gzip', index=False)"
   ]
  }
 ],
 "metadata": {
  "kernelspec": {
   "display_name": "dojo-env",
   "language": "python",
   "name": "python3"
  },
  "language_info": {
   "codemirror_mode": {
    "name": "ipython",
    "version": 3
   },
   "file_extension": ".py",
   "mimetype": "text/x-python",
   "name": "python",
   "nbconvert_exporter": "python",
   "pygments_lexer": "ipython3",
   "version": "3.9.15"
  },
  "orig_nbformat": 4
 },
 "nbformat": 4,
 "nbformat_minor": 2
}
