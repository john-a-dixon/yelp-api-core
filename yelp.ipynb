{
 "cells": [
  {
   "attachments": {},
   "cell_type": "markdown",
   "metadata": {},
   "source": [
    "# **Yelp API Core**\n",
    "\n",
    "_John Andrew Dixon_\n",
    "\n",
    "---\n",
    "\n",
    "##### **Imports**"
   ]
  },
  {
   "cell_type": "code",
   "execution_count": 34,
   "metadata": {},
   "outputs": [],
   "source": [
    "import json, math, os, time\n",
    "import numpy as np\n",
    "import pandas as pd\n",
    "from yelpapi import YelpAPI\n",
    "from tqdm.notebook import tqdm_notebook"
   ]
  },
  {
   "cell_type": "code",
   "execution_count": null,
   "metadata": {},
   "outputs": [],
   "source": [
    "def create_json_file(JSON_FILE, delete_if_exists=False):\n",
    "    # Check if the specified file exists\n",
    "    file_exists = os.path.isfile(JSON_FILE)\n",
    "\n",
    "    # If not\n",
    "    if not file_exists:\n",
    "        \n",
    "        # Get the folder name where the file will be saved.\n",
    "        folder = os.path.dirname(JSON_FILE)\n",
    "        # If the file is contained within a folder create it.\n",
    "        if len(folder) > 0:\n",
    "            os.makedirs(folder, exist_ok=True)\n",
    "\n",
    "        # Notify that the file is being created.\n",
    "        print(f\"Specified file did not exist: creating {file_exists} now.\")\n",
    "\n",
    "        # Save an empty list to the file that was created.\n",
    "        with open(JSON_FILE, \"w\") as f:\n",
    "            json.dump([], f)\n",
    "    # If so\n",
    "    else:\n",
    "        # Notify that it exists\n",
    "        print(f\"{JSON_FILE} exists.\")"
   ]
  },
  {
   "attachments": {},
   "cell_type": "markdown",
   "metadata": {},
   "source": [
    "---\n",
    "\n",
    "## **Efficient YelpAPI Calls**"
   ]
  },
  {
   "cell_type": "code",
   "execution_count": 52,
   "metadata": {},
   "outputs": [
    {
     "data": {
      "text/plain": [
       "<yelpapi.yelpapi.YelpAPI at 0x2477e95f280>"
      ]
     },
     "execution_count": 52,
     "metadata": {},
     "output_type": "execute_result"
    }
   ],
   "source": [
    "# Load YelpAPI credentials from the JSON files\n",
    "with open('/Users/johna/.secret/yelp_api.json') as f:\n",
    "    login = json.load(f)\n",
    "\n",
    "# Instantiate YelpAPI object\n",
    "yelp_api = YelpAPI(login['api-key'], timeout_s=5.0)\n",
    "yelp_api"
   ]
  },
  {
   "cell_type": "code",
   "execution_count": 53,
   "metadata": {},
   "outputs": [
    {
     "data": {
      "text/plain": [
       "'San Diego, CA'"
      ]
     },
     "metadata": {},
     "output_type": "display_data"
    },
    {
     "data": {
      "text/plain": [
       "'beer'"
      ]
     },
     "metadata": {},
     "output_type": "display_data"
    }
   ],
   "source": [
    "LOCATION = \"San Diego, CA\"\n",
    "TERM = \"beer\"\n",
    "display(LOCATION, TERM)"
   ]
  },
  {
   "cell_type": "code",
   "execution_count": 61,
   "metadata": {},
   "outputs": [
    {
     "data": {
      "text/plain": [
       "'Data/results_in_progress_SanDiego,CA_beer.json'"
      ]
     },
     "execution_count": 61,
     "metadata": {},
     "output_type": "execute_result"
    }
   ],
   "source": [
    "JSON_FILE = f\"Data/results_in_progress_{LOCATION.replace(' ', '')}_{TERM.replace(' ', '')}.json\"\n",
    "JSON_FILE"
   ]
  },
  {
   "cell_type": "code",
   "execution_count": null,
   "metadata": {},
   "outputs": [],
   "source": [
    "create_json_file(JSON_FILE)"
   ]
  },
  {
   "cell_type": "code",
   "execution_count": 56,
   "metadata": {},
   "outputs": [
    {
     "name": "stdout",
     "output_type": "stream",
     "text": [
      "There are 0 previous results.\n"
     ]
    }
   ],
   "source": [
    "# Load previous results.\n",
    "with open(JSON_FILE, \"r\") as f:\n",
    "    previous_results = json.load(f)\n",
    "\n",
    "# Notify how many previous results there were.\n",
    "n_results = len(previous_results)\n",
    "print(f\"There are {n_results} previous results.\")"
   ]
  },
  {
   "cell_type": "code",
   "execution_count": 57,
   "metadata": {},
   "outputs": [
    {
     "name": "stdout",
     "output_type": "stream",
     "text": [
      "There are 4500 total results.\n"
     ]
    }
   ],
   "source": [
    "# Preform an API call with the results offset.\n",
    "results = yelp_api.search_query(location=LOCATION,\n",
    "                                term=TERM,\n",
    "                                offset=n_results)\n",
    "# Show the total amount of results for verification and future reference.\n",
    "print(f\"There are {results['total']} total results.\")"
   ]
  },
  {
   "cell_type": "code",
   "execution_count": 58,
   "metadata": {},
   "outputs": [
    {
     "name": "stdout",
     "output_type": "stream",
     "text": [
      "There are 225 pages.\n"
     ]
    }
   ],
   "source": [
    "# Create the number of pages by getting the total results and subtracting\n",
    "# the previous results and then diving this by the amount of results per page\n",
    "# given by len(results[\"businesses\"]).\n",
    "n_pages = math.ceil((results[\"total\"] - n_results) / len(results[\"businesses\"]))\n",
    "print(f\"There are {n_pages} pages.\")"
   ]
  },
  {
   "cell_type": "code",
   "execution_count": 59,
   "metadata": {},
   "outputs": [
    {
     "data": {
      "application/vnd.jupyter.widget-view+json": {
       "model_id": "c12d0c556f91487aaa805d1c2a491cc4",
       "version_major": 2,
       "version_minor": 0
      },
      "text/plain": [
       "  0%|          | 0/224 [00:00<?, ?it/s]"
      ]
     },
     "metadata": {},
     "output_type": "display_data"
    }
   ],
   "source": [
    "for i in tqdm_notebook(range(1, n_pages)):\n",
    "\n",
    "    # Load previous results.\n",
    "    with open(JSON_FILE, \"r\") as f:\n",
    "        previous_results = json.load(f)\n",
    "\n",
    "    # Save the amount of previous results.\n",
    "    n_results = len(previous_results)\n",
    "\n",
    "    # if (n_results + 20) > 1000:\n",
    "    #     print(\"Exceeded offset of 1000. Stopping loop\")\n",
    "\n",
    "    # Preform an API call with the results offset.\n",
    "    results = yelp_api.search_query(location=LOCATION,\n",
    "                                    term=TERM,\n",
    "                                    offset=n_results)\n",
    "    \n",
    "    # Append new results\n",
    "    previous_results.extend(results[\"businesses\"])\n",
    "\n",
    "    # adds 200 ms pause\n",
    "    time.sleep(.2)"
   ]
  }
 ],
 "metadata": {
  "kernelspec": {
   "display_name": "dojo-env",
   "language": "python",
   "name": "python3"
  },
  "language_info": {
   "codemirror_mode": {
    "name": "ipython",
    "version": 3
   },
   "file_extension": ".py",
   "mimetype": "text/x-python",
   "name": "python",
   "nbconvert_exporter": "python",
   "pygments_lexer": "ipython3",
   "version": "3.9.15"
  },
  "orig_nbformat": 4
 },
 "nbformat": 4,
 "nbformat_minor": 2
}
